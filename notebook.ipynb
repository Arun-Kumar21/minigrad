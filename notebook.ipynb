{
 "cells": [
  {
   "cell_type": "code",
   "execution_count": 4,
   "id": "c59c76c7-1a48-4cf9-a523-a6fe435f66e0",
   "metadata": {},
   "outputs": [],
   "source": [
    "import numpy as np"
   ]
  },
  {
   "cell_type": "code",
   "execution_count": 45,
   "id": "5e858a9d-4082-4b4f-b8c9-e022949db2fd",
   "metadata": {},
   "outputs": [],
   "source": [
    "class Tensor:\n",
    "    def __init__ (self, data, requires_grad=False, _children=(), _op='', label=''):\n",
    "        self.data =  data\n",
    "        self.requires_grad = requires_grad\n",
    "        self.grad = 0\n",
    "        self.grad_fn = None\n",
    "        self._prev = set(_children)\n",
    "        self._op = _op\n",
    "        self.label = label\n",
    "\n",
    "    def __repr__(self):\n",
    "        return f\"tensor(data={self.data}, requires_grad={self.requires_grad})\"\n",
    "\n",
    "    def backward(self, grad_output=None):\n",
    "        if grad_output is None:\n",
    "            grad_output = 1.0\n",
    "\n",
    "        self.grad = grad_output\n",
    "\n",
    "        if self.grad_fn:\n",
    "            self.grad_fn.backward(grad_output)\n",
    "        \n",
    "    @property\n",
    "    def dtype(self):\n",
    "        if isinstance(self.data, np.ndarray):\n",
    "            return self.data.dtype\n",
    "\n",
    "        else:\n",
    "            return np.array(self.data).dtype\n",
    "\n",
    "    @property\n",
    "    def shape(self):\n",
    "        if isinstance(self.data, np.ndarray):\n",
    "            return self.data.shape\n",
    "        else:\n",
    "            return ()\n",
    "        \n",
    "    \n",
    "    def item(self):\n",
    "        if isinstance(self.data, np.ndarray):\n",
    "            if self.data.size != 1:\n",
    "                raise ValueError(f\"a Tensor with {self.data.size} elements cannnot converted into scalar\")\n",
    "            return self.data.item()\n",
    "        else:\n",
    "            return self.data\n",
    "\n",
    "\n",
    "    def __add__(self, other):\n",
    "        if not isinstance(other, Tensor):\n",
    "            other = Tensor(other)\n",
    "\n",
    "        return Add.apply(self, other)\n",
    "\n",
    "    def __mul__(self, other):\n",
    "        if not isinstance(other, Tensor):\n",
    "            other = Tensor(other)\n",
    "\n",
    "        return Mul.apply(self, other)\n",
    "\n",
    "    def __rmul__(self, other):\n",
    "        return self * other\n"
   ]
  },
  {
   "cell_type": "code",
   "execution_count": 46,
   "id": "2accf33c-6f13-41b0-a732-fddb2c810900",
   "metadata": {},
   "outputs": [],
   "source": [
    "class Function:\n",
    "    @staticmethod\n",
    "    def forward(ctx, *args):\n",
    "        raise NotImplementedError\n",
    "\n",
    "    @staticmethod\n",
    "    def backward(ctx, grad_output):\n",
    "        raise NotImplementedError\n",
    "\n",
    "class Add(Function):\n",
    "    @staticmethod\n",
    "    def apply(a, b):\n",
    "        output = Tensor(a.data + b.data, _children=(a, b), _op='+')\n",
    "        output.requires_grad = a.requires_grad or b.requires_grad\n",
    "        output.grad_fn = AddCtx(a, b)\n",
    "        return output\n",
    "\n",
    "class AddCtx:\n",
    "    def __init__(self, a, b):\n",
    "        self.a = a\n",
    "        self.b = b\n",
    "\n",
    "    def backward(self, grad_output):\n",
    "        if self.a.requires_grad:\n",
    "            self.a.backward(grad_output * 1.0)\n",
    "        if self.b.requires_grad:\n",
    "            self.b.backward(grad_output * 1.0)\n",
    "\n",
    "class Mul(Function):\n",
    "    @staticmethod\n",
    "    def apply(a, b):\n",
    "        output = Tensor(a.data * b.data, _children=(a, b), _op='*')\n",
    "        output.requires_grad = a.requires_grad or b.requires_grad\n",
    "        output.grad_fn = MulCtx(a, b)\n",
    "        return output\n",
    "\n",
    "\n",
    "class MulCtx:\n",
    "    def __init__(self, a, b):\n",
    "        self.a = a\n",
    "        self.b = b\n",
    "\n",
    "    def backward(self, grad_output):\n",
    "        if self.a.requires_grad:\n",
    "            self.a.backward(grad_output * self.b.data)\n",
    "        if self.b.requires_grad:\n",
    "            self.b.backward(grad_output * self.a.data)\n",
    "        "
   ]
  },
  {
   "cell_type": "code",
   "execution_count": 47,
   "id": "838cd9fa-03b4-4307-bb06-6226f6e2046d",
   "metadata": {},
   "outputs": [],
   "source": [
    "a = Tensor(np.array([3]))"
   ]
  },
  {
   "cell_type": "code",
   "execution_count": 5,
   "id": "f89421e7-a513-47d0-b81d-ef19252a1a0e",
   "metadata": {},
   "outputs": [],
   "source": [
    "b = Tensor(np.array([3, 4, 5]))"
   ]
  },
  {
   "cell_type": "code",
   "execution_count": 6,
   "id": "b00db838-bd70-4d75-a1d3-862a3375364d",
   "metadata": {},
   "outputs": [
    {
     "ename": "ValueError",
     "evalue": "a Tensor with 3 elements cannnot converted into scalar",
     "output_type": "error",
     "traceback": [
      "\u001b[1;31m---------------------------------------------------------------------------\u001b[0m",
      "\u001b[1;31mValueError\u001b[0m                                Traceback (most recent call last)",
      "Cell \u001b[1;32mIn[6], line 1\u001b[0m\n\u001b[1;32m----> 1\u001b[0m \u001b[43mb\u001b[49m\u001b[38;5;241;43m.\u001b[39;49m\u001b[43mitem\u001b[49m\u001b[43m(\u001b[49m\u001b[43m)\u001b[49m\n",
      "Cell \u001b[1;32mIn[2], line 42\u001b[0m, in \u001b[0;36mTensor.item\u001b[1;34m(self)\u001b[0m\n\u001b[0;32m     40\u001b[0m \u001b[38;5;28;01mif\u001b[39;00m \u001b[38;5;28misinstance\u001b[39m(\u001b[38;5;28mself\u001b[39m\u001b[38;5;241m.\u001b[39mdata, np\u001b[38;5;241m.\u001b[39mndarray):\n\u001b[0;32m     41\u001b[0m     \u001b[38;5;28;01mif\u001b[39;00m \u001b[38;5;28mself\u001b[39m\u001b[38;5;241m.\u001b[39mdata\u001b[38;5;241m.\u001b[39msize \u001b[38;5;241m!=\u001b[39m \u001b[38;5;241m1\u001b[39m:\n\u001b[1;32m---> 42\u001b[0m         \u001b[38;5;28;01mraise\u001b[39;00m \u001b[38;5;167;01mValueError\u001b[39;00m(\u001b[38;5;124mf\u001b[39m\u001b[38;5;124m\"\u001b[39m\u001b[38;5;124ma Tensor with \u001b[39m\u001b[38;5;132;01m{\u001b[39;00m\u001b[38;5;28mself\u001b[39m\u001b[38;5;241m.\u001b[39mdata\u001b[38;5;241m.\u001b[39msize\u001b[38;5;132;01m}\u001b[39;00m\u001b[38;5;124m elements cannnot converted into scalar\u001b[39m\u001b[38;5;124m\"\u001b[39m)\n\u001b[0;32m     43\u001b[0m     \u001b[38;5;28;01mreturn\u001b[39;00m \u001b[38;5;28mself\u001b[39m\u001b[38;5;241m.\u001b[39mdata\u001b[38;5;241m.\u001b[39mitem()\n\u001b[0;32m     44\u001b[0m \u001b[38;5;28;01melse\u001b[39;00m:\n",
      "\u001b[1;31mValueError\u001b[0m: a Tensor with 3 elements cannnot converted into scalar"
     ]
    }
   ],
   "source": [
    "b.item()"
   ]
  },
  {
   "cell_type": "code",
   "execution_count": 7,
   "id": "d21aa30e-7fee-4b54-bcdb-77ca6a71bb7d",
   "metadata": {},
   "outputs": [
    {
     "data": {
      "text/plain": [
       "tensor(data=[3], requires_grad=False)"
      ]
     },
     "execution_count": 7,
     "metadata": {},
     "output_type": "execute_result"
    }
   ],
   "source": [
    "a"
   ]
  },
  {
   "cell_type": "code",
   "execution_count": 8,
   "id": "22ad15f3-e789-4056-8d10-a11d2a27e98f",
   "metadata": {},
   "outputs": [],
   "source": [
    "a.requires_grad = True"
   ]
  },
  {
   "cell_type": "code",
   "execution_count": 9,
   "id": "dba09484-bb50-4246-ac1e-bbaf443f2b44",
   "metadata": {},
   "outputs": [
    {
     "data": {
      "text/plain": [
       "tensor(data=[3], requires_grad=True)"
      ]
     },
     "execution_count": 9,
     "metadata": {},
     "output_type": "execute_result"
    }
   ],
   "source": [
    "a"
   ]
  },
  {
   "cell_type": "code",
   "execution_count": 10,
   "id": "d17a8172-11cb-4c9a-bdaf-6f4c45709bed",
   "metadata": {},
   "outputs": [
    {
     "data": {
      "text/plain": [
       "3"
      ]
     },
     "execution_count": 10,
     "metadata": {},
     "output_type": "execute_result"
    }
   ],
   "source": [
    "a.item()"
   ]
  },
  {
   "cell_type": "code",
   "execution_count": 11,
   "id": "c2749c6d-a33c-40fd-8a47-af7d836e9c95",
   "metadata": {},
   "outputs": [
    {
     "data": {
      "text/plain": [
       "dtype('int64')"
      ]
     },
     "execution_count": 11,
     "metadata": {},
     "output_type": "execute_result"
    }
   ],
   "source": [
    "a.dtype"
   ]
  },
  {
   "cell_type": "code",
   "execution_count": 12,
   "id": "a6d47dec-b68c-4642-89af-30dd80690cb5",
   "metadata": {},
   "outputs": [
    {
     "data": {
      "text/plain": [
       "torch.Size([])"
      ]
     },
     "execution_count": 12,
     "metadata": {},
     "output_type": "execute_result"
    }
   ],
   "source": [
    "import torch \n",
    "t = torch.tensor(5)\n",
    "t.shape"
   ]
  },
  {
   "cell_type": "code",
   "execution_count": 13,
   "id": "87716776-50ce-4162-90e7-7760678b447c",
   "metadata": {},
   "outputs": [],
   "source": [
    "c = Tensor(3)"
   ]
  },
  {
   "cell_type": "code",
   "execution_count": 14,
   "id": "c8f2170a-5bac-4241-b719-4cd94fcd7714",
   "metadata": {},
   "outputs": [
    {
     "data": {
      "text/plain": [
       "()"
      ]
     },
     "execution_count": 14,
     "metadata": {},
     "output_type": "execute_result"
    }
   ],
   "source": [
    "c.shape"
   ]
  },
  {
   "cell_type": "code",
   "execution_count": 15,
   "id": "efc53d03-9d34-47a1-931e-f6a3262dc29b",
   "metadata": {},
   "outputs": [
    {
     "data": {
      "text/plain": [
       "(1,)"
      ]
     },
     "execution_count": 15,
     "metadata": {},
     "output_type": "execute_result"
    }
   ],
   "source": [
    "a.shape"
   ]
  },
  {
   "cell_type": "code",
   "execution_count": 16,
   "id": "bec7c148-e578-480a-bf7d-4a4373f00505",
   "metadata": {},
   "outputs": [],
   "source": [
    "a = Tensor(2)\n",
    "b = Tensor(3)\n",
    "\n",
    "a.requires_grad = True\n",
    "b.requires_grad = True"
   ]
  },
  {
   "cell_type": "code",
   "execution_count": 17,
   "id": "808ca483-220e-4199-9d23-3f85b6377c8d",
   "metadata": {},
   "outputs": [
    {
     "data": {
      "text/plain": [
       "tensor(data=5, requires_grad=True)"
      ]
     },
     "execution_count": 17,
     "metadata": {},
     "output_type": "execute_result"
    }
   ],
   "source": [
    "a+b"
   ]
  },
  {
   "cell_type": "code",
   "execution_count": 18,
   "id": "9af68bae-c94f-41f0-94e2-e6bc6c43328a",
   "metadata": {},
   "outputs": [],
   "source": [
    "z = a + b"
   ]
  },
  {
   "cell_type": "code",
   "execution_count": 19,
   "id": "d02c4610-9d94-40c2-9d7a-313862243441",
   "metadata": {},
   "outputs": [],
   "source": [
    "z.backward()"
   ]
  },
  {
   "cell_type": "code",
   "execution_count": 20,
   "id": "db80567b-973d-4c69-a019-c380796be1c0",
   "metadata": {},
   "outputs": [
    {
     "data": {
      "text/plain": [
       "tensor(data=5, requires_grad=True)"
      ]
     },
     "execution_count": 20,
     "metadata": {},
     "output_type": "execute_result"
    }
   ],
   "source": [
    "z"
   ]
  },
  {
   "cell_type": "code",
   "execution_count": 21,
   "id": "059e0765-66c3-405f-8a2f-2c16d2c6ffcb",
   "metadata": {},
   "outputs": [
    {
     "data": {
      "text/plain": [
       "1.0"
      ]
     },
     "execution_count": 21,
     "metadata": {},
     "output_type": "execute_result"
    }
   ],
   "source": [
    "a.grad"
   ]
  },
  {
   "cell_type": "code",
   "execution_count": 22,
   "id": "ea0b38b4-35da-43c7-957c-e40815187411",
   "metadata": {},
   "outputs": [
    {
     "data": {
      "text/plain": [
       "1.0"
      ]
     },
     "execution_count": 22,
     "metadata": {},
     "output_type": "execute_result"
    }
   ],
   "source": [
    "b.grad"
   ]
  },
  {
   "cell_type": "code",
   "execution_count": 23,
   "id": "1a98be74-46c0-4e4b-98f3-9dc9d07a1b4c",
   "metadata": {},
   "outputs": [
    {
     "data": {
      "text/plain": [
       "(2,)"
      ]
     },
     "execution_count": 23,
     "metadata": {},
     "output_type": "execute_result"
    }
   ],
   "source": [
    "x = Tensor(np.array([1, 2]))\n",
    "x.shape"
   ]
  },
  {
   "cell_type": "code",
   "execution_count": 24,
   "id": "28feb4a8",
   "metadata": {},
   "outputs": [
    {
     "data": {
      "text/plain": [
       "(2,)"
      ]
     },
     "execution_count": 24,
     "metadata": {},
     "output_type": "execute_result"
    }
   ],
   "source": [
    "y = Tensor(np.array([3, 4]))\n",
    "y.shape"
   ]
  },
  {
   "cell_type": "code",
   "execution_count": 25,
   "id": "b60f389a",
   "metadata": {},
   "outputs": [
    {
     "data": {
      "text/plain": [
       "tensor(data=[4 6], requires_grad=False)"
      ]
     },
     "execution_count": 25,
     "metadata": {},
     "output_type": "execute_result"
    }
   ],
   "source": [
    "z = x + y\n",
    "z"
   ]
  },
  {
   "cell_type": "code",
   "execution_count": 26,
   "id": "b5fa2e80-3437-4a7f-855e-161bdfb56e24",
   "metadata": {},
   "outputs": [
    {
     "name": "stdout",
     "output_type": "stream",
     "text": [
      "Collecting graphviz\n",
      "  Downloading graphviz-0.21-py3-none-any.whl.metadata (12 kB)\n",
      "Downloading graphviz-0.21-py3-none-any.whl (47 kB)\n",
      "Installing collected packages: graphviz\n",
      "Successfully installed graphviz-0.21\n"
     ]
    }
   ],
   "source": [
    "!pip install graphviz "
   ]
  },
  {
   "cell_type": "code",
   "execution_count": null,
   "id": "6c2542a5-754e-4665-8e3f-28d6c68baf3b",
   "metadata": {},
   "outputs": [],
   "source": [
    "from graphviz import Digraph\n",
    "\n",
    "def draw_dot(root):\n",
    "    dot = Digraph(format='svg', graph_attr={'rankdir': 'LR'})\n",
    "\n",
    "    nodes, edges = set(), []\n",
    "\n",
    "    def build(v):\n",
    "        if v not in nodes:\n",
    "            nodes.add(v)\n",
    "\n",
    "            label = f\"{v.label} | data: {v.data:.4f}\"\n",
    "            dot.node(str(id(v)), label = \"{ %s | data %.4f | grad %.4f }\" % (v.label, v.data, v.grad), shape='record')\n",
    "\n",
    "            for child in v._prev:\n",
    "                edges.append((child, v))\n",
    "                build(child)\n",
    "\n",
    "    build(root)\n",
    "\n",
    "    for u, v in edges:\n",
    "        dot.edge(str(id(u)), str(id(v)), label=v._op)\n",
    "\n",
    "    return dot\n"
   ]
  },
  {
   "cell_type": "code",
   "execution_count": 48,
   "id": "7e48d3e7-2641-4b28-b029-e761bb6b740f",
   "metadata": {},
   "outputs": [],
   "source": [
    "a = Tensor(1, label='a')\n",
    "b = Tensor(2, label='b')\n",
    "\n",
    "a.requires_grad = True\n",
    "b.requires_grad = True\n",
    "\n",
    "y = a + b\n",
    "\n",
    "y.backward()\n",
    "\n",
    "y.label = 'y'\n",
    "\n",
    "\n",
    "x = Tensor(4, label='x')\n",
    "\n",
    "z = y + x\n",
    "\n",
    "z.backward()\n",
    "\n",
    "z.label = 'z'\n"
   ]
  },
  {
   "cell_type": "code",
   "execution_count": 49,
   "id": "e6190775-ed97-4fdc-a908-4bfaaa94552f",
   "metadata": {},
   "outputs": [
    {
     "data": {
      "image/svg+xml": [
       "<?xml version=\"1.0\" encoding=\"UTF-8\" standalone=\"no\"?>\n",
       "<!DOCTYPE svg PUBLIC \"-//W3C//DTD SVG 1.1//EN\"\n",
       " \"http://www.w3.org/Graphics/SVG/1.1/DTD/svg11.dtd\">\n",
       "<!-- Generated by graphviz version 13.1.0 (20250701.0955)\n",
       " -->\n",
       "<!-- Pages: 1 -->\n",
       "<svg width=\"647pt\" height=\"127pt\"\n",
       " viewBox=\"0.00 0.00 647.00 127.00\" xmlns=\"http://www.w3.org/2000/svg\" xmlns:xlink=\"http://www.w3.org/1999/xlink\">\n",
       "<g id=\"graph0\" class=\"graph\" transform=\"scale(1 1) rotate(0) translate(4 123)\">\n",
       "<polygon fill=\"white\" stroke=\"none\" points=\"-4,4 -4,-123 643,-123 643,4 -4,4\"/>\n",
       "<!-- 2205988691984 -->\n",
       "<g id=\"node1\" class=\"node\">\n",
       "<title>2205988691984</title>\n",
       "<polygon fill=\"none\" stroke=\"black\" points=\"456,-20.5 456,-56.5 639,-56.5 639,-20.5 456,-20.5\"/>\n",
       "<text xml:space=\"preserve\" text-anchor=\"middle\" x=\"467\" y=\"-33.7\" font-family=\"Times New Roman,serif\" font-size=\"14.00\">z</text>\n",
       "<polyline fill=\"none\" stroke=\"black\" points=\"478,-21 478,-56.5\"/>\n",
       "<text xml:space=\"preserve\" text-anchor=\"middle\" x=\"517.88\" y=\"-33.7\" font-family=\"Times New Roman,serif\" font-size=\"14.00\">data 7.0000</text>\n",
       "<polyline fill=\"none\" stroke=\"black\" points=\"557.75,-21 557.75,-56.5\"/>\n",
       "<text xml:space=\"preserve\" text-anchor=\"middle\" x=\"598.38\" y=\"-33.7\" font-family=\"Times New Roman,serif\" font-size=\"14.00\">grad 1.0000</text>\n",
       "</g>\n",
       "<!-- 2205988627984 -->\n",
       "<g id=\"node2\" class=\"node\">\n",
       "<title>2205988627984</title>\n",
       "<polygon fill=\"none\" stroke=\"black\" points=\"228,-55.5 228,-91.5 411.75,-91.5 411.75,-55.5 228,-55.5\"/>\n",
       "<text xml:space=\"preserve\" text-anchor=\"middle\" x=\"239.38\" y=\"-68.7\" font-family=\"Times New Roman,serif\" font-size=\"14.00\">y</text>\n",
       "<polyline fill=\"none\" stroke=\"black\" points=\"250.75,-56 250.75,-91.5\"/>\n",
       "<text xml:space=\"preserve\" text-anchor=\"middle\" x=\"290.62\" y=\"-68.7\" font-family=\"Times New Roman,serif\" font-size=\"14.00\">data 3.0000</text>\n",
       "<polyline fill=\"none\" stroke=\"black\" points=\"330.5,-56 330.5,-91.5\"/>\n",
       "<text xml:space=\"preserve\" text-anchor=\"middle\" x=\"371.12\" y=\"-68.7\" font-family=\"Times New Roman,serif\" font-size=\"14.00\">grad 1.0000</text>\n",
       "</g>\n",
       "<!-- 2205988627984&#45;&gt;2205988691984 -->\n",
       "<g id=\"edge1\" class=\"edge\">\n",
       "<title>2205988627984&#45;&gt;2205988691984</title>\n",
       "<path fill=\"none\" stroke=\"black\" d=\"M411.99,-59.37C422.71,-57.7 433.69,-56 444.54,-54.32\"/>\n",
       "<polygon fill=\"black\" stroke=\"black\" points=\"444.93,-57.8 454.28,-52.81 443.86,-50.88 444.93,-57.8\"/>\n",
       "<text xml:space=\"preserve\" text-anchor=\"middle\" x=\"433.88\" y=\"-59.2\" font-family=\"Times New Roman,serif\" font-size=\"14.00\">+</text>\n",
       "</g>\n",
       "<!-- 2207608071824 -->\n",
       "<g id=\"node3\" class=\"node\">\n",
       "<title>2207608071824</title>\n",
       "<polygon fill=\"none\" stroke=\"black\" points=\"0,-82.5 0,-118.5 183.75,-118.5 183.75,-82.5 0,-82.5\"/>\n",
       "<text xml:space=\"preserve\" text-anchor=\"middle\" x=\"11.38\" y=\"-95.7\" font-family=\"Times New Roman,serif\" font-size=\"14.00\">b</text>\n",
       "<polyline fill=\"none\" stroke=\"black\" points=\"22.75,-83 22.75,-118.5\"/>\n",
       "<text xml:space=\"preserve\" text-anchor=\"middle\" x=\"62.62\" y=\"-95.7\" font-family=\"Times New Roman,serif\" font-size=\"14.00\">data 2.0000</text>\n",
       "<polyline fill=\"none\" stroke=\"black\" points=\"102.5,-83 102.5,-118.5\"/>\n",
       "<text xml:space=\"preserve\" text-anchor=\"middle\" x=\"143.12\" y=\"-95.7\" font-family=\"Times New Roman,serif\" font-size=\"14.00\">grad 1.0000</text>\n",
       "</g>\n",
       "<!-- 2207608071824&#45;&gt;2205988627984 -->\n",
       "<g id=\"edge2\" class=\"edge\">\n",
       "<title>2207608071824&#45;&gt;2205988627984</title>\n",
       "<path fill=\"none\" stroke=\"black\" d=\"M184.15,-89.6C194.78,-88.32 205.69,-87.02 216.46,-85.73\"/>\n",
       "<polygon fill=\"black\" stroke=\"black\" points=\"216.61,-89.24 226.13,-84.58 215.78,-82.29 216.61,-89.24\"/>\n",
       "<text xml:space=\"preserve\" text-anchor=\"middle\" x=\"205.88\" y=\"-90.2\" font-family=\"Times New Roman,serif\" font-size=\"14.00\">+</text>\n",
       "</g>\n",
       "<!-- 2207608073808 -->\n",
       "<g id=\"node4\" class=\"node\">\n",
       "<title>2207608073808</title>\n",
       "<polygon fill=\"none\" stroke=\"black\" points=\"0.38,-27.5 0.38,-63.5 183.38,-63.5 183.38,-27.5 0.38,-27.5\"/>\n",
       "<text xml:space=\"preserve\" text-anchor=\"middle\" x=\"11.38\" y=\"-40.7\" font-family=\"Times New Roman,serif\" font-size=\"14.00\">a</text>\n",
       "<polyline fill=\"none\" stroke=\"black\" points=\"22.38,-28 22.38,-63.5\"/>\n",
       "<text xml:space=\"preserve\" text-anchor=\"middle\" x=\"62.25\" y=\"-40.7\" font-family=\"Times New Roman,serif\" font-size=\"14.00\">data 1.0000</text>\n",
       "<polyline fill=\"none\" stroke=\"black\" points=\"102.12,-28 102.12,-63.5\"/>\n",
       "<text xml:space=\"preserve\" text-anchor=\"middle\" x=\"142.75\" y=\"-40.7\" font-family=\"Times New Roman,serif\" font-size=\"14.00\">grad 1.0000</text>\n",
       "</g>\n",
       "<!-- 2207608073808&#45;&gt;2205988627984 -->\n",
       "<g id=\"edge3\" class=\"edge\">\n",
       "<title>2207608073808&#45;&gt;2205988627984</title>\n",
       "<path fill=\"none\" stroke=\"black\" d=\"M183.82,-56.77C194.56,-58.1 205.58,-59.46 216.47,-60.81\"/>\n",
       "<polygon fill=\"black\" stroke=\"black\" points=\"215.89,-64.27 226.25,-62.02 216.75,-57.32 215.89,-64.27\"/>\n",
       "<text xml:space=\"preserve\" text-anchor=\"middle\" x=\"205.88\" y=\"-62.7\" font-family=\"Times New Roman,serif\" font-size=\"14.00\">+</text>\n",
       "</g>\n",
       "<!-- 2207608072656 -->\n",
       "<g id=\"node5\" class=\"node\">\n",
       "<title>2207608072656</title>\n",
       "<polygon fill=\"none\" stroke=\"black\" points=\"228,-0.5 228,-36.5 411.75,-36.5 411.75,-0.5 228,-0.5\"/>\n",
       "<text xml:space=\"preserve\" text-anchor=\"middle\" x=\"239.38\" y=\"-13.7\" font-family=\"Times New Roman,serif\" font-size=\"14.00\">x</text>\n",
       "<polyline fill=\"none\" stroke=\"black\" points=\"250.75,-1 250.75,-36.5\"/>\n",
       "<text xml:space=\"preserve\" text-anchor=\"middle\" x=\"290.62\" y=\"-13.7\" font-family=\"Times New Roman,serif\" font-size=\"14.00\">data 4.0000</text>\n",
       "<polyline fill=\"none\" stroke=\"black\" points=\"330.5,-1 330.5,-36.5\"/>\n",
       "<text xml:space=\"preserve\" text-anchor=\"middle\" x=\"371.12\" y=\"-13.7\" font-family=\"Times New Roman,serif\" font-size=\"14.00\">grad 0.0000</text>\n",
       "</g>\n",
       "<!-- 2207608072656&#45;&gt;2205988691984 -->\n",
       "<g id=\"edge4\" class=\"edge\">\n",
       "<title>2207608072656&#45;&gt;2205988691984</title>\n",
       "<path fill=\"none\" stroke=\"black\" d=\"M412.01,-24.82C420.8,-25.52 429.57,-26.25 438,-27 440.07,-27.18 442.16,-27.37 444.26,-27.57\"/>\n",
       "<polygon fill=\"black\" stroke=\"black\" points=\"443.86,-31.05 454.14,-28.5 444.52,-24.08 443.86,-31.05\"/>\n",
       "<text xml:space=\"preserve\" text-anchor=\"middle\" x=\"433.88\" y=\"-30.2\" font-family=\"Times New Roman,serif\" font-size=\"14.00\">+</text>\n",
       "</g>\n",
       "</g>\n",
       "</svg>\n"
      ],
      "text/plain": [
       "<graphviz.graphs.Digraph at 0x2019f343290>"
      ]
     },
     "execution_count": 49,
     "metadata": {},
     "output_type": "execute_result"
    }
   ],
   "source": [
    "draw_dot(z)"
   ]
  },
  {
   "cell_type": "code",
   "execution_count": 55,
   "id": "03cb8880-6a8d-4b75-a88a-b69e1fccd419",
   "metadata": {},
   "outputs": [],
   "source": [
    "m = y * x\n",
    "\n",
    "x.requires_grad = True\n",
    "\n",
    "m.backward()"
   ]
  },
  {
   "cell_type": "markdown",
   "id": "9a466205-a657-4c40-b3b9-1e479841362e",
   "metadata": {},
   "source": [
    "<p> m = y * x </p>\n",
    "<p> m = (a + b) * x </p>\n",
    "<p>m = ax + bx</p>\n",
    "\n",
    "<p>dm/dm = 1  ==> (1)</p>\n",
    "\n",
    "\n",
    "<p>dm/dx = y  ==> (3)</p>\n",
    "<p>dm/dy = x ==> (4)</p>\n",
    "\n",
    "<p>dm/da = x ==> (4)</p>\n",
    "<p>dm/db = x ==> (4)</p>\n"
   ]
  },
  {
   "cell_type": "code",
   "execution_count": 56,
   "id": "89d03f7e-fde7-4fd8-8c6a-7855271c4857",
   "metadata": {},
   "outputs": [
    {
     "data": {
      "image/svg+xml": [
       "<?xml version=\"1.0\" encoding=\"UTF-8\" standalone=\"no\"?>\n",
       "<!DOCTYPE svg PUBLIC \"-//W3C//DTD SVG 1.1//EN\"\n",
       " \"http://www.w3.org/Graphics/SVG/1.1/DTD/svg11.dtd\">\n",
       "<!-- Generated by graphviz version 13.1.0 (20250701.0955)\n",
       " -->\n",
       "<!-- Pages: 1 -->\n",
       "<svg width=\"650pt\" height=\"127pt\"\n",
       " viewBox=\"0.00 0.00 650.00 127.00\" xmlns=\"http://www.w3.org/2000/svg\" xmlns:xlink=\"http://www.w3.org/1999/xlink\">\n",
       "<g id=\"graph0\" class=\"graph\" transform=\"scale(1 1) rotate(0) translate(4 123)\">\n",
       "<polygon fill=\"white\" stroke=\"none\" points=\"-4,4 -4,-123 646,-123 646,4 -4,4\"/>\n",
       "<!-- 2205993242832 -->\n",
       "<g id=\"node1\" class=\"node\">\n",
       "<title>2205993242832</title>\n",
       "<polygon fill=\"none\" stroke=\"black\" points=\"454.5,-20.5 454.5,-56.5 642,-56.5 642,-20.5 454.5,-20.5\"/>\n",
       "<text xml:space=\"preserve\" text-anchor=\"middle\" x=\"464.38\" y=\"-33.7\" font-family=\"Times New Roman,serif\" font-size=\"14.00\"> </text>\n",
       "<polyline fill=\"none\" stroke=\"black\" points=\"474.25,-21 474.25,-56.5\"/>\n",
       "<text xml:space=\"preserve\" text-anchor=\"middle\" x=\"517.5\" y=\"-33.7\" font-family=\"Times New Roman,serif\" font-size=\"14.00\">data 12.0000</text>\n",
       "<polyline fill=\"none\" stroke=\"black\" points=\"560.75,-21 560.75,-56.5\"/>\n",
       "<text xml:space=\"preserve\" text-anchor=\"middle\" x=\"601.38\" y=\"-33.7\" font-family=\"Times New Roman,serif\" font-size=\"14.00\">grad 1.0000</text>\n",
       "</g>\n",
       "<!-- 2205988627984 -->\n",
       "<g id=\"node2\" class=\"node\">\n",
       "<title>2205988627984</title>\n",
       "<polygon fill=\"none\" stroke=\"black\" points=\"228,-55.5 228,-91.5 411.75,-91.5 411.75,-55.5 228,-55.5\"/>\n",
       "<text xml:space=\"preserve\" text-anchor=\"middle\" x=\"239.38\" y=\"-68.7\" font-family=\"Times New Roman,serif\" font-size=\"14.00\">y</text>\n",
       "<polyline fill=\"none\" stroke=\"black\" points=\"250.75,-56 250.75,-91.5\"/>\n",
       "<text xml:space=\"preserve\" text-anchor=\"middle\" x=\"290.62\" y=\"-68.7\" font-family=\"Times New Roman,serif\" font-size=\"14.00\">data 3.0000</text>\n",
       "<polyline fill=\"none\" stroke=\"black\" points=\"330.5,-56 330.5,-91.5\"/>\n",
       "<text xml:space=\"preserve\" text-anchor=\"middle\" x=\"371.12\" y=\"-68.7\" font-family=\"Times New Roman,serif\" font-size=\"14.00\">grad 4.0000</text>\n",
       "</g>\n",
       "<!-- 2205988627984&#45;&gt;2205993242832 -->\n",
       "<g id=\"edge1\" class=\"edge\">\n",
       "<title>2205988627984&#45;&gt;2205993242832</title>\n",
       "<path fill=\"none\" stroke=\"black\" d=\"M411.97,-59.42C422.17,-57.84 432.61,-56.22 442.96,-54.62\"/>\n",
       "<polygon fill=\"black\" stroke=\"black\" points=\"443.28,-58.12 452.63,-53.13 442.21,-51.2 443.28,-58.12\"/>\n",
       "<text xml:space=\"preserve\" text-anchor=\"middle\" x=\"433.12\" y=\"-59.2\" font-family=\"Times New Roman,serif\" font-size=\"14.00\">*</text>\n",
       "</g>\n",
       "<!-- 2207608071824 -->\n",
       "<g id=\"node3\" class=\"node\">\n",
       "<title>2207608071824</title>\n",
       "<polygon fill=\"none\" stroke=\"black\" points=\"0,-82.5 0,-118.5 183.75,-118.5 183.75,-82.5 0,-82.5\"/>\n",
       "<text xml:space=\"preserve\" text-anchor=\"middle\" x=\"11.38\" y=\"-95.7\" font-family=\"Times New Roman,serif\" font-size=\"14.00\">b</text>\n",
       "<polyline fill=\"none\" stroke=\"black\" points=\"22.75,-83 22.75,-118.5\"/>\n",
       "<text xml:space=\"preserve\" text-anchor=\"middle\" x=\"62.62\" y=\"-95.7\" font-family=\"Times New Roman,serif\" font-size=\"14.00\">data 2.0000</text>\n",
       "<polyline fill=\"none\" stroke=\"black\" points=\"102.5,-83 102.5,-118.5\"/>\n",
       "<text xml:space=\"preserve\" text-anchor=\"middle\" x=\"143.12\" y=\"-95.7\" font-family=\"Times New Roman,serif\" font-size=\"14.00\">grad 4.0000</text>\n",
       "</g>\n",
       "<!-- 2207608071824&#45;&gt;2205988627984 -->\n",
       "<g id=\"edge2\" class=\"edge\">\n",
       "<title>2207608071824&#45;&gt;2205988627984</title>\n",
       "<path fill=\"none\" stroke=\"black\" d=\"M184.15,-89.6C194.78,-88.32 205.69,-87.02 216.46,-85.73\"/>\n",
       "<polygon fill=\"black\" stroke=\"black\" points=\"216.61,-89.24 226.13,-84.58 215.78,-82.29 216.61,-89.24\"/>\n",
       "<text xml:space=\"preserve\" text-anchor=\"middle\" x=\"205.88\" y=\"-90.2\" font-family=\"Times New Roman,serif\" font-size=\"14.00\">+</text>\n",
       "</g>\n",
       "<!-- 2207608073808 -->\n",
       "<g id=\"node4\" class=\"node\">\n",
       "<title>2207608073808</title>\n",
       "<polygon fill=\"none\" stroke=\"black\" points=\"0.38,-27.5 0.38,-63.5 183.38,-63.5 183.38,-27.5 0.38,-27.5\"/>\n",
       "<text xml:space=\"preserve\" text-anchor=\"middle\" x=\"11.38\" y=\"-40.7\" font-family=\"Times New Roman,serif\" font-size=\"14.00\">a</text>\n",
       "<polyline fill=\"none\" stroke=\"black\" points=\"22.38,-28 22.38,-63.5\"/>\n",
       "<text xml:space=\"preserve\" text-anchor=\"middle\" x=\"62.25\" y=\"-40.7\" font-family=\"Times New Roman,serif\" font-size=\"14.00\">data 1.0000</text>\n",
       "<polyline fill=\"none\" stroke=\"black\" points=\"102.12,-28 102.12,-63.5\"/>\n",
       "<text xml:space=\"preserve\" text-anchor=\"middle\" x=\"142.75\" y=\"-40.7\" font-family=\"Times New Roman,serif\" font-size=\"14.00\">grad 4.0000</text>\n",
       "</g>\n",
       "<!-- 2207608073808&#45;&gt;2205988627984 -->\n",
       "<g id=\"edge3\" class=\"edge\">\n",
       "<title>2207608073808&#45;&gt;2205988627984</title>\n",
       "<path fill=\"none\" stroke=\"black\" d=\"M183.82,-56.77C194.56,-58.1 205.58,-59.46 216.47,-60.81\"/>\n",
       "<polygon fill=\"black\" stroke=\"black\" points=\"215.89,-64.27 226.25,-62.02 216.75,-57.32 215.89,-64.27\"/>\n",
       "<text xml:space=\"preserve\" text-anchor=\"middle\" x=\"205.88\" y=\"-62.7\" font-family=\"Times New Roman,serif\" font-size=\"14.00\">+</text>\n",
       "</g>\n",
       "<!-- 2207608072656 -->\n",
       "<g id=\"node5\" class=\"node\">\n",
       "<title>2207608072656</title>\n",
       "<polygon fill=\"none\" stroke=\"black\" points=\"228,-0.5 228,-36.5 411.75,-36.5 411.75,-0.5 228,-0.5\"/>\n",
       "<text xml:space=\"preserve\" text-anchor=\"middle\" x=\"239.38\" y=\"-13.7\" font-family=\"Times New Roman,serif\" font-size=\"14.00\">x</text>\n",
       "<polyline fill=\"none\" stroke=\"black\" points=\"250.75,-1 250.75,-36.5\"/>\n",
       "<text xml:space=\"preserve\" text-anchor=\"middle\" x=\"290.62\" y=\"-13.7\" font-family=\"Times New Roman,serif\" font-size=\"14.00\">data 4.0000</text>\n",
       "<polyline fill=\"none\" stroke=\"black\" points=\"330.5,-1 330.5,-36.5\"/>\n",
       "<text xml:space=\"preserve\" text-anchor=\"middle\" x=\"371.12\" y=\"-13.7\" font-family=\"Times New Roman,serif\" font-size=\"14.00\">grad 3.0000</text>\n",
       "</g>\n",
       "<!-- 2207608072656&#45;&gt;2205993242832 -->\n",
       "<g id=\"edge4\" class=\"edge\">\n",
       "<title>2207608072656&#45;&gt;2205993242832</title>\n",
       "<path fill=\"none\" stroke=\"black\" d=\"M412.1,-24.95C420.35,-25.61 428.58,-26.3 436.5,-27 438.58,-27.18 440.67,-27.37 442.79,-27.57\"/>\n",
       "<polygon fill=\"black\" stroke=\"black\" points=\"442.42,-31.05 452.71,-28.49 443.07,-24.08 442.42,-31.05\"/>\n",
       "<text xml:space=\"preserve\" text-anchor=\"middle\" x=\"433.12\" y=\"-30.2\" font-family=\"Times New Roman,serif\" font-size=\"14.00\">*</text>\n",
       "</g>\n",
       "</g>\n",
       "</svg>\n"
      ],
      "text/plain": [
       "<graphviz.graphs.Digraph at 0x20180fe3550>"
      ]
     },
     "execution_count": 56,
     "metadata": {},
     "output_type": "execute_result"
    }
   ],
   "source": [
    "draw_dot(m)"
   ]
  }
 ],
 "metadata": {
  "kernelspec": {
   "display_name": "Python 3 (ipykernel)",
   "language": "python",
   "name": "python3"
  },
  "language_info": {
   "codemirror_mode": {
    "name": "ipython",
    "version": 3
   },
   "file_extension": ".py",
   "mimetype": "text/x-python",
   "name": "python",
   "nbconvert_exporter": "python",
   "pygments_lexer": "ipython3",
   "version": "3.11.3"
  }
 },
 "nbformat": 4,
 "nbformat_minor": 5
}
