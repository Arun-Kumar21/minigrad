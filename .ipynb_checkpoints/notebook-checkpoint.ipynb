{
 "cells": [
  {
   "cell_type": "code",
   "execution_count": 1,
   "id": "c59c76c7-1a48-4cf9-a523-a6fe435f66e0",
   "metadata": {},
   "outputs": [],
   "source": [
    "import numpy as np"
   ]
  },
  {
   "cell_type": "code",
   "execution_count": 67,
   "id": "5e858a9d-4082-4b4f-b8c9-e022949db2fd",
   "metadata": {},
   "outputs": [],
   "source": [
    "class Tensor:\n",
    "    def __init__ (self, data, requires_grad=False, _children=(), _op='', label=''):\n",
    "        self.data =  data\n",
    "        self.requires_grad = requires_grad\n",
    "        self.grad = 0\n",
    "        self.grad_fn = None\n",
    "        self._prev = set(_children)\n",
    "        self._op = _op\n",
    "        self.label = label\n",
    "\n",
    "    def __repr__(self):\n",
    "        return f\"tensor(data={self.data}, requires_grad={self.requires_grad})\"\n",
    "\n",
    "    def backward(self, grad_output=None):\n",
    "        if grad_output is None:\n",
    "            grad_output = 1.0\n",
    "\n",
    "        self.grad = grad_output\n",
    "\n",
    "        if self.grad_fn:\n",
    "            self.grad_fn.backward(grad_output)\n",
    "        \n",
    "    @property\n",
    "    def dtype(self):\n",
    "        if isinstance(self.data, np.ndarray):\n",
    "            return self.data.dtype\n",
    "\n",
    "        else:\n",
    "            return np.array(self.data).dtype\n",
    "\n",
    "    @property\n",
    "    def shape(self):\n",
    "        if isinstance(self.data, np.ndarray):\n",
    "            return self.data.shape\n",
    "        else:\n",
    "            return ()\n",
    "        \n",
    "    \n",
    "    def item(self):\n",
    "        if isinstance(self.data, np.ndarray):\n",
    "            if self.data.size != 1:\n",
    "                raise ValueError(f\"a Tensor with {self.data.size} elements cannnot converted into scalar\")\n",
    "            return self.data.item()\n",
    "        else:\n",
    "            return self.data\n",
    "\n",
    "\n",
    "    def __add__(self, other):\n",
    "        if not isinstance(other, Tensor):\n",
    "            other = Tensor(other)\n",
    "            \n",
    "        return Add.apply(self, other)\n",
    "\n",
    "    def __neg__(self):\n",
    "        return self * -1\n",
    "\n",
    "    def __sub__(self, other):\n",
    "        if not isinstance(other, Tensor):\n",
    "            other = Tensor(other)\n",
    "\n",
    "        return Add.apply(self, -other)\n",
    "\n",
    "    def __mul__(self, other):\n",
    "        if not isinstance(other, Tensor):\n",
    "            other = Tensor(other)\n",
    "\n",
    "        return Mul.apply(self, other)\n",
    "\n",
    "    def __rmul__(self, other):\n",
    "        return self * other\n",
    "\n",
    "\n",
    "    def __truediv__(self, other):\n",
    "        return self * other ** -1\n",
    "    \n",
    "    def __pow__(self, other):\n",
    "        if not isinstance(other, (int, float)):\n",
    "            raise ValueError(f'Tensor power can only be int or float')\n",
    "\n",
    "        return Pow.apply(self, other)"
   ]
  },
  {
   "cell_type": "code",
   "execution_count": 68,
   "id": "2accf33c-6f13-41b0-a732-fddb2c810900",
   "metadata": {},
   "outputs": [],
   "source": [
    "class Function:\n",
    "    @staticmethod\n",
    "    def forward(ctx, *args):\n",
    "        raise NotImplementedError\n",
    "\n",
    "    @staticmethod\n",
    "    def backward(ctx, grad_output):\n",
    "        raise NotImplementedError\n",
    "\n",
    "class Add(Function):\n",
    "    @staticmethod\n",
    "    def apply(a, b):\n",
    "        output = Tensor(a.data + b.data, _children=(a, b), _op='+')\n",
    "        output.requires_grad = a.requires_grad or b.requires_grad\n",
    "        output.grad_fn = AddCtx(a, b)\n",
    "        return output\n",
    "\n",
    "class AddCtx:\n",
    "    def __init__(self, a, b):\n",
    "        self.a = a\n",
    "        self.b = b\n",
    "\n",
    "    def backward(self, grad_output):\n",
    "        if self.a.requires_grad:\n",
    "            self.a.backward(grad_output * 1.0)\n",
    "        if self.b.requires_grad:\n",
    "            self.b.backward(grad_output * 1.0)            \n",
    "\n",
    "class Mul(Function):\n",
    "    @staticmethod\n",
    "    def apply(a, b):\n",
    "        output = Tensor(a.data * b.data, _children=(a, b), _op='*')\n",
    "        output.requires_grad = a.requires_grad or b.requires_grad\n",
    "        output.grad_fn = MulCtx(a, b)\n",
    "        return output\n",
    "\n",
    "\n",
    "class MulCtx:\n",
    "    def __init__(self, a, b):\n",
    "        self.a = a\n",
    "        self.b = b\n",
    "\n",
    "    def backward(self, grad_output):\n",
    "        if self.a.requires_grad:\n",
    "            self.a.backward(grad_output * self.b.data)\n",
    "        if self.b.requires_grad:\n",
    "            self.b.backward(grad_output * self.a.data)\n",
    "\n",
    "class Pow(Function):\n",
    "    @staticmethod\n",
    "    def apply(a, b):\n",
    "        output = Tensor(a.data ** b, _children=(a,), _op=\"**\")\n",
    "        output.requires_grad = a.requires_grad\n",
    "\n",
    "        output.grad_fn = PowCtx(a, b)\n",
    "        return output\n",
    "\n",
    "class PowCtx:\n",
    "    def __init__(self, a, b):\n",
    "        self.a = a\n",
    "        self.b = b\n",
    "\n",
    "    def backward(self, grad_output):\n",
    "        if self.a.requires_grad:\n",
    "            self.a.backward((self.b * self.a.data ** (self.b - 1)) * grad_output)\n",
    "        "
   ]
  },
  {
   "cell_type": "code",
   "execution_count": 69,
   "id": "838cd9fa-03b4-4307-bb06-6226f6e2046d",
   "metadata": {},
   "outputs": [],
   "source": [
    "a = Tensor(np.array([3]))"
   ]
  },
  {
   "cell_type": "code",
   "execution_count": 5,
   "id": "f89421e7-a513-47d0-b81d-ef19252a1a0e",
   "metadata": {},
   "outputs": [],
   "source": [
    "b = Tensor(np.array([3, 4, 5]))"
   ]
  },
  {
   "cell_type": "code",
   "execution_count": 6,
   "id": "b00db838-bd70-4d75-a1d3-862a3375364d",
   "metadata": {},
   "outputs": [
    {
     "ename": "ValueError",
     "evalue": "a Tensor with 3 elements cannnot converted into scalar",
     "output_type": "error",
     "traceback": [
      "\u001b[1;31m---------------------------------------------------------------------------\u001b[0m",
      "\u001b[1;31mValueError\u001b[0m                                Traceback (most recent call last)",
      "Cell \u001b[1;32mIn[6], line 1\u001b[0m\n\u001b[1;32m----> 1\u001b[0m \u001b[43mb\u001b[49m\u001b[38;5;241;43m.\u001b[39;49m\u001b[43mitem\u001b[49m\u001b[43m(\u001b[49m\u001b[43m)\u001b[49m\n",
      "Cell \u001b[1;32mIn[2], line 42\u001b[0m, in \u001b[0;36mTensor.item\u001b[1;34m(self)\u001b[0m\n\u001b[0;32m     40\u001b[0m \u001b[38;5;28;01mif\u001b[39;00m \u001b[38;5;28misinstance\u001b[39m(\u001b[38;5;28mself\u001b[39m\u001b[38;5;241m.\u001b[39mdata, np\u001b[38;5;241m.\u001b[39mndarray):\n\u001b[0;32m     41\u001b[0m     \u001b[38;5;28;01mif\u001b[39;00m \u001b[38;5;28mself\u001b[39m\u001b[38;5;241m.\u001b[39mdata\u001b[38;5;241m.\u001b[39msize \u001b[38;5;241m!=\u001b[39m \u001b[38;5;241m1\u001b[39m:\n\u001b[1;32m---> 42\u001b[0m         \u001b[38;5;28;01mraise\u001b[39;00m \u001b[38;5;167;01mValueError\u001b[39;00m(\u001b[38;5;124mf\u001b[39m\u001b[38;5;124m\"\u001b[39m\u001b[38;5;124ma Tensor with \u001b[39m\u001b[38;5;132;01m{\u001b[39;00m\u001b[38;5;28mself\u001b[39m\u001b[38;5;241m.\u001b[39mdata\u001b[38;5;241m.\u001b[39msize\u001b[38;5;132;01m}\u001b[39;00m\u001b[38;5;124m elements cannnot converted into scalar\u001b[39m\u001b[38;5;124m\"\u001b[39m)\n\u001b[0;32m     43\u001b[0m     \u001b[38;5;28;01mreturn\u001b[39;00m \u001b[38;5;28mself\u001b[39m\u001b[38;5;241m.\u001b[39mdata\u001b[38;5;241m.\u001b[39mitem()\n\u001b[0;32m     44\u001b[0m \u001b[38;5;28;01melse\u001b[39;00m:\n",
      "\u001b[1;31mValueError\u001b[0m: a Tensor with 3 elements cannnot converted into scalar"
     ]
    }
   ],
   "source": [
    "b.item()"
   ]
  },
  {
   "cell_type": "code",
   "execution_count": 7,
   "id": "d21aa30e-7fee-4b54-bcdb-77ca6a71bb7d",
   "metadata": {},
   "outputs": [
    {
     "data": {
      "text/plain": [
       "tensor(data=[3], requires_grad=False)"
      ]
     },
     "execution_count": 7,
     "metadata": {},
     "output_type": "execute_result"
    }
   ],
   "source": [
    "a"
   ]
  },
  {
   "cell_type": "code",
   "execution_count": 8,
   "id": "22ad15f3-e789-4056-8d10-a11d2a27e98f",
   "metadata": {},
   "outputs": [],
   "source": [
    "a.requires_grad = True"
   ]
  },
  {
   "cell_type": "code",
   "execution_count": 9,
   "id": "dba09484-bb50-4246-ac1e-bbaf443f2b44",
   "metadata": {},
   "outputs": [
    {
     "data": {
      "text/plain": [
       "tensor(data=[3], requires_grad=True)"
      ]
     },
     "execution_count": 9,
     "metadata": {},
     "output_type": "execute_result"
    }
   ],
   "source": [
    "a"
   ]
  },
  {
   "cell_type": "code",
   "execution_count": 10,
   "id": "d17a8172-11cb-4c9a-bdaf-6f4c45709bed",
   "metadata": {},
   "outputs": [
    {
     "data": {
      "text/plain": [
       "3"
      ]
     },
     "execution_count": 10,
     "metadata": {},
     "output_type": "execute_result"
    }
   ],
   "source": [
    "a.item()"
   ]
  },
  {
   "cell_type": "code",
   "execution_count": 11,
   "id": "c2749c6d-a33c-40fd-8a47-af7d836e9c95",
   "metadata": {},
   "outputs": [
    {
     "data": {
      "text/plain": [
       "dtype('int64')"
      ]
     },
     "execution_count": 11,
     "metadata": {},
     "output_type": "execute_result"
    }
   ],
   "source": [
    "a.dtype"
   ]
  },
  {
   "cell_type": "code",
   "execution_count": 12,
   "id": "a6d47dec-b68c-4642-89af-30dd80690cb5",
   "metadata": {},
   "outputs": [
    {
     "data": {
      "text/plain": [
       "torch.Size([])"
      ]
     },
     "execution_count": 12,
     "metadata": {},
     "output_type": "execute_result"
    }
   ],
   "source": [
    "import torch \n",
    "t = torch.tensor(5)\n",
    "t.shape"
   ]
  },
  {
   "cell_type": "code",
   "execution_count": 13,
   "id": "87716776-50ce-4162-90e7-7760678b447c",
   "metadata": {},
   "outputs": [],
   "source": [
    "c = Tensor(3)"
   ]
  },
  {
   "cell_type": "code",
   "execution_count": 14,
   "id": "c8f2170a-5bac-4241-b719-4cd94fcd7714",
   "metadata": {},
   "outputs": [
    {
     "data": {
      "text/plain": [
       "()"
      ]
     },
     "execution_count": 14,
     "metadata": {},
     "output_type": "execute_result"
    }
   ],
   "source": [
    "c.shape"
   ]
  },
  {
   "cell_type": "code",
   "execution_count": 15,
   "id": "efc53d03-9d34-47a1-931e-f6a3262dc29b",
   "metadata": {},
   "outputs": [
    {
     "data": {
      "text/plain": [
       "(1,)"
      ]
     },
     "execution_count": 15,
     "metadata": {},
     "output_type": "execute_result"
    }
   ],
   "source": [
    "a.shape"
   ]
  },
  {
   "cell_type": "code",
   "execution_count": 16,
   "id": "bec7c148-e578-480a-bf7d-4a4373f00505",
   "metadata": {},
   "outputs": [],
   "source": [
    "a = Tensor(2)\n",
    "b = Tensor(3)\n",
    "\n",
    "a.requires_grad = True\n",
    "b.requires_grad = True"
   ]
  },
  {
   "cell_type": "code",
   "execution_count": 17,
   "id": "808ca483-220e-4199-9d23-3f85b6377c8d",
   "metadata": {},
   "outputs": [
    {
     "data": {
      "text/plain": [
       "tensor(data=5, requires_grad=True)"
      ]
     },
     "execution_count": 17,
     "metadata": {},
     "output_type": "execute_result"
    }
   ],
   "source": [
    "a+b"
   ]
  },
  {
   "cell_type": "code",
   "execution_count": 18,
   "id": "9af68bae-c94f-41f0-94e2-e6bc6c43328a",
   "metadata": {},
   "outputs": [],
   "source": [
    "z = a + b"
   ]
  },
  {
   "cell_type": "code",
   "execution_count": 19,
   "id": "d02c4610-9d94-40c2-9d7a-313862243441",
   "metadata": {},
   "outputs": [],
   "source": [
    "z.backward()"
   ]
  },
  {
   "cell_type": "code",
   "execution_count": 20,
   "id": "db80567b-973d-4c69-a019-c380796be1c0",
   "metadata": {},
   "outputs": [
    {
     "data": {
      "text/plain": [
       "tensor(data=5, requires_grad=True)"
      ]
     },
     "execution_count": 20,
     "metadata": {},
     "output_type": "execute_result"
    }
   ],
   "source": [
    "z"
   ]
  },
  {
   "cell_type": "code",
   "execution_count": 21,
   "id": "059e0765-66c3-405f-8a2f-2c16d2c6ffcb",
   "metadata": {},
   "outputs": [
    {
     "data": {
      "text/plain": [
       "1.0"
      ]
     },
     "execution_count": 21,
     "metadata": {},
     "output_type": "execute_result"
    }
   ],
   "source": [
    "a.grad"
   ]
  },
  {
   "cell_type": "code",
   "execution_count": 22,
   "id": "ea0b38b4-35da-43c7-957c-e40815187411",
   "metadata": {},
   "outputs": [
    {
     "data": {
      "text/plain": [
       "1.0"
      ]
     },
     "execution_count": 22,
     "metadata": {},
     "output_type": "execute_result"
    }
   ],
   "source": [
    "b.grad"
   ]
  },
  {
   "cell_type": "code",
   "execution_count": 23,
   "id": "1a98be74-46c0-4e4b-98f3-9dc9d07a1b4c",
   "metadata": {},
   "outputs": [
    {
     "data": {
      "text/plain": [
       "(2,)"
      ]
     },
     "execution_count": 23,
     "metadata": {},
     "output_type": "execute_result"
    }
   ],
   "source": [
    "x = Tensor(np.array([1, 2]))\n",
    "x.shape"
   ]
  },
  {
   "cell_type": "code",
   "execution_count": 24,
   "id": "28feb4a8",
   "metadata": {},
   "outputs": [
    {
     "data": {
      "text/plain": [
       "(2,)"
      ]
     },
     "execution_count": 24,
     "metadata": {},
     "output_type": "execute_result"
    }
   ],
   "source": [
    "y = Tensor(np.array([3, 4]))\n",
    "y.shape"
   ]
  },
  {
   "cell_type": "code",
   "execution_count": 25,
   "id": "b60f389a",
   "metadata": {},
   "outputs": [
    {
     "data": {
      "text/plain": [
       "tensor(data=[4 6], requires_grad=False)"
      ]
     },
     "execution_count": 25,
     "metadata": {},
     "output_type": "execute_result"
    }
   ],
   "source": [
    "z = x + y\n",
    "z"
   ]
  },
  {
   "cell_type": "code",
   "execution_count": 26,
   "id": "b5fa2e80-3437-4a7f-855e-161bdfb56e24",
   "metadata": {},
   "outputs": [
    {
     "name": "stdout",
     "output_type": "stream",
     "text": [
      "Collecting graphviz\n",
      "  Downloading graphviz-0.21-py3-none-any.whl.metadata (12 kB)\n",
      "Downloading graphviz-0.21-py3-none-any.whl (47 kB)\n",
      "Installing collected packages: graphviz\n",
      "Successfully installed graphviz-0.21\n"
     ]
    }
   ],
   "source": [
    "!pip install graphviz "
   ]
  },
  {
   "cell_type": "code",
   "execution_count": 11,
   "id": "6c2542a5-754e-4665-8e3f-28d6c68baf3b",
   "metadata": {},
   "outputs": [],
   "source": [
    "from graphviz import Digraph\n",
    "\n",
    "def draw_dot(root):\n",
    "    dot = Digraph(format='svg', graph_attr={'rankdir': 'LR'})\n",
    "\n",
    "    nodes, edges = set(), []\n",
    "\n",
    "    def build(v):\n",
    "        if v not in nodes:\n",
    "            nodes.add(v)\n",
    "\n",
    "            label = f\"{v.label} | data: {v.data:.4f}\"\n",
    "            dot.node(str(id(v)), label = \"{ %s | data %.4f | grad %.4f }\" % (v.label, v.data, v.grad), shape='record')\n",
    "\n",
    "            for child in v._prev:\n",
    "                edges.append((child, v))\n",
    "                build(child)\n",
    "\n",
    "    build(root)\n",
    "\n",
    "    for u, v in edges:\n",
    "        dot.edge(str(id(u)), str(id(v)), label=v._op)\n",
    "\n",
    "    return dot\n"
   ]
  },
  {
   "cell_type": "code",
   "execution_count": 48,
   "id": "7e48d3e7-2641-4b28-b029-e761bb6b740f",
   "metadata": {},
   "outputs": [],
   "source": [
    "a = Tensor(1, label='a')\n",
    "b = Tensor(2, label='b')\n",
    "\n",
    "a.requires_grad = True\n",
    "b.requires_grad = True\n",
    "\n",
    "y = a + b\n",
    "\n",
    "y.backward()\n",
    "\n",
    "y.label = 'y'\n",
    "\n",
    "\n",
    "x = Tensor(4, label='x')\n",
    "\n",
    "z = y + x\n",
    "\n",
    "z.backward()\n",
    "\n",
    "z.label = 'z'\n"
   ]
  },
  {
   "cell_type": "code",
   "execution_count": 49,
   "id": "e6190775-ed97-4fdc-a908-4bfaaa94552f",
   "metadata": {},
   "outputs": [
    {
     "data": {
      "image/svg+xml": [
       "<?xml version=\"1.0\" encoding=\"UTF-8\" standalone=\"no\"?>\n",
       "<!DOCTYPE svg PUBLIC \"-//W3C//DTD SVG 1.1//EN\"\n",
       " \"http://www.w3.org/Graphics/SVG/1.1/DTD/svg11.dtd\">\n",
       "<!-- Generated by graphviz version 13.1.0 (20250701.0955)\n",
       " -->\n",
       "<!-- Pages: 1 -->\n",
       "<svg width=\"647pt\" height=\"127pt\"\n",
       " viewBox=\"0.00 0.00 647.00 127.00\" xmlns=\"http://www.w3.org/2000/svg\" xmlns:xlink=\"http://www.w3.org/1999/xlink\">\n",
       "<g id=\"graph0\" class=\"graph\" transform=\"scale(1 1) rotate(0) translate(4 123)\">\n",
       "<polygon fill=\"white\" stroke=\"none\" points=\"-4,4 -4,-123 643,-123 643,4 -4,4\"/>\n",
       "<!-- 2205988691984 -->\n",
       "<g id=\"node1\" class=\"node\">\n",
       "<title>2205988691984</title>\n",
       "<polygon fill=\"none\" stroke=\"black\" points=\"456,-20.5 456,-56.5 639,-56.5 639,-20.5 456,-20.5\"/>\n",
       "<text xml:space=\"preserve\" text-anchor=\"middle\" x=\"467\" y=\"-33.7\" font-family=\"Times New Roman,serif\" font-size=\"14.00\">z</text>\n",
       "<polyline fill=\"none\" stroke=\"black\" points=\"478,-21 478,-56.5\"/>\n",
       "<text xml:space=\"preserve\" text-anchor=\"middle\" x=\"517.88\" y=\"-33.7\" font-family=\"Times New Roman,serif\" font-size=\"14.00\">data 7.0000</text>\n",
       "<polyline fill=\"none\" stroke=\"black\" points=\"557.75,-21 557.75,-56.5\"/>\n",
       "<text xml:space=\"preserve\" text-anchor=\"middle\" x=\"598.38\" y=\"-33.7\" font-family=\"Times New Roman,serif\" font-size=\"14.00\">grad 1.0000</text>\n",
       "</g>\n",
       "<!-- 2205988627984 -->\n",
       "<g id=\"node2\" class=\"node\">\n",
       "<title>2205988627984</title>\n",
       "<polygon fill=\"none\" stroke=\"black\" points=\"228,-55.5 228,-91.5 411.75,-91.5 411.75,-55.5 228,-55.5\"/>\n",
       "<text xml:space=\"preserve\" text-anchor=\"middle\" x=\"239.38\" y=\"-68.7\" font-family=\"Times New Roman,serif\" font-size=\"14.00\">y</text>\n",
       "<polyline fill=\"none\" stroke=\"black\" points=\"250.75,-56 250.75,-91.5\"/>\n",
       "<text xml:space=\"preserve\" text-anchor=\"middle\" x=\"290.62\" y=\"-68.7\" font-family=\"Times New Roman,serif\" font-size=\"14.00\">data 3.0000</text>\n",
       "<polyline fill=\"none\" stroke=\"black\" points=\"330.5,-56 330.5,-91.5\"/>\n",
       "<text xml:space=\"preserve\" text-anchor=\"middle\" x=\"371.12\" y=\"-68.7\" font-family=\"Times New Roman,serif\" font-size=\"14.00\">grad 1.0000</text>\n",
       "</g>\n",
       "<!-- 2205988627984&#45;&gt;2205988691984 -->\n",
       "<g id=\"edge1\" class=\"edge\">\n",
       "<title>2205988627984&#45;&gt;2205988691984</title>\n",
       "<path fill=\"none\" stroke=\"black\" d=\"M411.99,-59.37C422.71,-57.7 433.69,-56 444.54,-54.32\"/>\n",
       "<polygon fill=\"black\" stroke=\"black\" points=\"444.93,-57.8 454.28,-52.81 443.86,-50.88 444.93,-57.8\"/>\n",
       "<text xml:space=\"preserve\" text-anchor=\"middle\" x=\"433.88\" y=\"-59.2\" font-family=\"Times New Roman,serif\" font-size=\"14.00\">+</text>\n",
       "</g>\n",
       "<!-- 2207608071824 -->\n",
       "<g id=\"node3\" class=\"node\">\n",
       "<title>2207608071824</title>\n",
       "<polygon fill=\"none\" stroke=\"black\" points=\"0,-82.5 0,-118.5 183.75,-118.5 183.75,-82.5 0,-82.5\"/>\n",
       "<text xml:space=\"preserve\" text-anchor=\"middle\" x=\"11.38\" y=\"-95.7\" font-family=\"Times New Roman,serif\" font-size=\"14.00\">b</text>\n",
       "<polyline fill=\"none\" stroke=\"black\" points=\"22.75,-83 22.75,-118.5\"/>\n",
       "<text xml:space=\"preserve\" text-anchor=\"middle\" x=\"62.62\" y=\"-95.7\" font-family=\"Times New Roman,serif\" font-size=\"14.00\">data 2.0000</text>\n",
       "<polyline fill=\"none\" stroke=\"black\" points=\"102.5,-83 102.5,-118.5\"/>\n",
       "<text xml:space=\"preserve\" text-anchor=\"middle\" x=\"143.12\" y=\"-95.7\" font-family=\"Times New Roman,serif\" font-size=\"14.00\">grad 1.0000</text>\n",
       "</g>\n",
       "<!-- 2207608071824&#45;&gt;2205988627984 -->\n",
       "<g id=\"edge2\" class=\"edge\">\n",
       "<title>2207608071824&#45;&gt;2205988627984</title>\n",
       "<path fill=\"none\" stroke=\"black\" d=\"M184.15,-89.6C194.78,-88.32 205.69,-87.02 216.46,-85.73\"/>\n",
       "<polygon fill=\"black\" stroke=\"black\" points=\"216.61,-89.24 226.13,-84.58 215.78,-82.29 216.61,-89.24\"/>\n",
       "<text xml:space=\"preserve\" text-anchor=\"middle\" x=\"205.88\" y=\"-90.2\" font-family=\"Times New Roman,serif\" font-size=\"14.00\">+</text>\n",
       "</g>\n",
       "<!-- 2207608073808 -->\n",
       "<g id=\"node4\" class=\"node\">\n",
       "<title>2207608073808</title>\n",
       "<polygon fill=\"none\" stroke=\"black\" points=\"0.38,-27.5 0.38,-63.5 183.38,-63.5 183.38,-27.5 0.38,-27.5\"/>\n",
       "<text xml:space=\"preserve\" text-anchor=\"middle\" x=\"11.38\" y=\"-40.7\" font-family=\"Times New Roman,serif\" font-size=\"14.00\">a</text>\n",
       "<polyline fill=\"none\" stroke=\"black\" points=\"22.38,-28 22.38,-63.5\"/>\n",
       "<text xml:space=\"preserve\" text-anchor=\"middle\" x=\"62.25\" y=\"-40.7\" font-family=\"Times New Roman,serif\" font-size=\"14.00\">data 1.0000</text>\n",
       "<polyline fill=\"none\" stroke=\"black\" points=\"102.12,-28 102.12,-63.5\"/>\n",
       "<text xml:space=\"preserve\" text-anchor=\"middle\" x=\"142.75\" y=\"-40.7\" font-family=\"Times New Roman,serif\" font-size=\"14.00\">grad 1.0000</text>\n",
       "</g>\n",
       "<!-- 2207608073808&#45;&gt;2205988627984 -->\n",
       "<g id=\"edge3\" class=\"edge\">\n",
       "<title>2207608073808&#45;&gt;2205988627984</title>\n",
       "<path fill=\"none\" stroke=\"black\" d=\"M183.82,-56.77C194.56,-58.1 205.58,-59.46 216.47,-60.81\"/>\n",
       "<polygon fill=\"black\" stroke=\"black\" points=\"215.89,-64.27 226.25,-62.02 216.75,-57.32 215.89,-64.27\"/>\n",
       "<text xml:space=\"preserve\" text-anchor=\"middle\" x=\"205.88\" y=\"-62.7\" font-family=\"Times New Roman,serif\" font-size=\"14.00\">+</text>\n",
       "</g>\n",
       "<!-- 2207608072656 -->\n",
       "<g id=\"node5\" class=\"node\">\n",
       "<title>2207608072656</title>\n",
       "<polygon fill=\"none\" stroke=\"black\" points=\"228,-0.5 228,-36.5 411.75,-36.5 411.75,-0.5 228,-0.5\"/>\n",
       "<text xml:space=\"preserve\" text-anchor=\"middle\" x=\"239.38\" y=\"-13.7\" font-family=\"Times New Roman,serif\" font-size=\"14.00\">x</text>\n",
       "<polyline fill=\"none\" stroke=\"black\" points=\"250.75,-1 250.75,-36.5\"/>\n",
       "<text xml:space=\"preserve\" text-anchor=\"middle\" x=\"290.62\" y=\"-13.7\" font-family=\"Times New Roman,serif\" font-size=\"14.00\">data 4.0000</text>\n",
       "<polyline fill=\"none\" stroke=\"black\" points=\"330.5,-1 330.5,-36.5\"/>\n",
       "<text xml:space=\"preserve\" text-anchor=\"middle\" x=\"371.12\" y=\"-13.7\" font-family=\"Times New Roman,serif\" font-size=\"14.00\">grad 0.0000</text>\n",
       "</g>\n",
       "<!-- 2207608072656&#45;&gt;2205988691984 -->\n",
       "<g id=\"edge4\" class=\"edge\">\n",
       "<title>2207608072656&#45;&gt;2205988691984</title>\n",
       "<path fill=\"none\" stroke=\"black\" d=\"M412.01,-24.82C420.8,-25.52 429.57,-26.25 438,-27 440.07,-27.18 442.16,-27.37 444.26,-27.57\"/>\n",
       "<polygon fill=\"black\" stroke=\"black\" points=\"443.86,-31.05 454.14,-28.5 444.52,-24.08 443.86,-31.05\"/>\n",
       "<text xml:space=\"preserve\" text-anchor=\"middle\" x=\"433.88\" y=\"-30.2\" font-family=\"Times New Roman,serif\" font-size=\"14.00\">+</text>\n",
       "</g>\n",
       "</g>\n",
       "</svg>\n"
      ],
      "text/plain": [
       "<graphviz.graphs.Digraph at 0x2019f343290>"
      ]
     },
     "execution_count": 49,
     "metadata": {},
     "output_type": "execute_result"
    }
   ],
   "source": [
    "draw_dot(z)"
   ]
  },
  {
   "cell_type": "code",
   "execution_count": 55,
   "id": "03cb8880-6a8d-4b75-a88a-b69e1fccd419",
   "metadata": {},
   "outputs": [],
   "source": [
    "m = y * x\n",
    "\n",
    "x.requires_grad = True\n",
    "\n",
    "m.backward()"
   ]
  },
  {
   "cell_type": "markdown",
   "id": "9a466205-a657-4c40-b3b9-1e479841362e",
   "metadata": {},
   "source": [
    "<p> m = y * x </p>\n",
    "<p> m = (a + b) * x </p>\n",
    "<p>m = ax + bx</p>\n",
    "\n",
    "<p>dm/dm = 1  ==> (1)</p>\n",
    "\n",
    "\n",
    "<p>dm/dx = y  ==> (3)</p>\n",
    "<p>dm/dy = x ==> (4)</p>\n",
    "\n",
    "<p>dm/da = x ==> (4)</p>\n",
    "<p>dm/db = x ==> (4)</p>\n"
   ]
  },
  {
   "cell_type": "code",
   "execution_count": 56,
   "id": "89d03f7e-fde7-4fd8-8c6a-7855271c4857",
   "metadata": {},
   "outputs": [
    {
     "data": {
      "image/svg+xml": [
       "<?xml version=\"1.0\" encoding=\"UTF-8\" standalone=\"no\"?>\n",
       "<!DOCTYPE svg PUBLIC \"-//W3C//DTD SVG 1.1//EN\"\n",
       " \"http://www.w3.org/Graphics/SVG/1.1/DTD/svg11.dtd\">\n",
       "<!-- Generated by graphviz version 13.1.0 (20250701.0955)\n",
       " -->\n",
       "<!-- Pages: 1 -->\n",
       "<svg width=\"650pt\" height=\"127pt\"\n",
       " viewBox=\"0.00 0.00 650.00 127.00\" xmlns=\"http://www.w3.org/2000/svg\" xmlns:xlink=\"http://www.w3.org/1999/xlink\">\n",
       "<g id=\"graph0\" class=\"graph\" transform=\"scale(1 1) rotate(0) translate(4 123)\">\n",
       "<polygon fill=\"white\" stroke=\"none\" points=\"-4,4 -4,-123 646,-123 646,4 -4,4\"/>\n",
       "<!-- 2205993242832 -->\n",
       "<g id=\"node1\" class=\"node\">\n",
       "<title>2205993242832</title>\n",
       "<polygon fill=\"none\" stroke=\"black\" points=\"454.5,-20.5 454.5,-56.5 642,-56.5 642,-20.5 454.5,-20.5\"/>\n",
       "<text xml:space=\"preserve\" text-anchor=\"middle\" x=\"464.38\" y=\"-33.7\" font-family=\"Times New Roman,serif\" font-size=\"14.00\"> </text>\n",
       "<polyline fill=\"none\" stroke=\"black\" points=\"474.25,-21 474.25,-56.5\"/>\n",
       "<text xml:space=\"preserve\" text-anchor=\"middle\" x=\"517.5\" y=\"-33.7\" font-family=\"Times New Roman,serif\" font-size=\"14.00\">data 12.0000</text>\n",
       "<polyline fill=\"none\" stroke=\"black\" points=\"560.75,-21 560.75,-56.5\"/>\n",
       "<text xml:space=\"preserve\" text-anchor=\"middle\" x=\"601.38\" y=\"-33.7\" font-family=\"Times New Roman,serif\" font-size=\"14.00\">grad 1.0000</text>\n",
       "</g>\n",
       "<!-- 2205988627984 -->\n",
       "<g id=\"node2\" class=\"node\">\n",
       "<title>2205988627984</title>\n",
       "<polygon fill=\"none\" stroke=\"black\" points=\"228,-55.5 228,-91.5 411.75,-91.5 411.75,-55.5 228,-55.5\"/>\n",
       "<text xml:space=\"preserve\" text-anchor=\"middle\" x=\"239.38\" y=\"-68.7\" font-family=\"Times New Roman,serif\" font-size=\"14.00\">y</text>\n",
       "<polyline fill=\"none\" stroke=\"black\" points=\"250.75,-56 250.75,-91.5\"/>\n",
       "<text xml:space=\"preserve\" text-anchor=\"middle\" x=\"290.62\" y=\"-68.7\" font-family=\"Times New Roman,serif\" font-size=\"14.00\">data 3.0000</text>\n",
       "<polyline fill=\"none\" stroke=\"black\" points=\"330.5,-56 330.5,-91.5\"/>\n",
       "<text xml:space=\"preserve\" text-anchor=\"middle\" x=\"371.12\" y=\"-68.7\" font-family=\"Times New Roman,serif\" font-size=\"14.00\">grad 4.0000</text>\n",
       "</g>\n",
       "<!-- 2205988627984&#45;&gt;2205993242832 -->\n",
       "<g id=\"edge1\" class=\"edge\">\n",
       "<title>2205988627984&#45;&gt;2205993242832</title>\n",
       "<path fill=\"none\" stroke=\"black\" d=\"M411.97,-59.42C422.17,-57.84 432.61,-56.22 442.96,-54.62\"/>\n",
       "<polygon fill=\"black\" stroke=\"black\" points=\"443.28,-58.12 452.63,-53.13 442.21,-51.2 443.28,-58.12\"/>\n",
       "<text xml:space=\"preserve\" text-anchor=\"middle\" x=\"433.12\" y=\"-59.2\" font-family=\"Times New Roman,serif\" font-size=\"14.00\">*</text>\n",
       "</g>\n",
       "<!-- 2207608071824 -->\n",
       "<g id=\"node3\" class=\"node\">\n",
       "<title>2207608071824</title>\n",
       "<polygon fill=\"none\" stroke=\"black\" points=\"0,-82.5 0,-118.5 183.75,-118.5 183.75,-82.5 0,-82.5\"/>\n",
       "<text xml:space=\"preserve\" text-anchor=\"middle\" x=\"11.38\" y=\"-95.7\" font-family=\"Times New Roman,serif\" font-size=\"14.00\">b</text>\n",
       "<polyline fill=\"none\" stroke=\"black\" points=\"22.75,-83 22.75,-118.5\"/>\n",
       "<text xml:space=\"preserve\" text-anchor=\"middle\" x=\"62.62\" y=\"-95.7\" font-family=\"Times New Roman,serif\" font-size=\"14.00\">data 2.0000</text>\n",
       "<polyline fill=\"none\" stroke=\"black\" points=\"102.5,-83 102.5,-118.5\"/>\n",
       "<text xml:space=\"preserve\" text-anchor=\"middle\" x=\"143.12\" y=\"-95.7\" font-family=\"Times New Roman,serif\" font-size=\"14.00\">grad 4.0000</text>\n",
       "</g>\n",
       "<!-- 2207608071824&#45;&gt;2205988627984 -->\n",
       "<g id=\"edge2\" class=\"edge\">\n",
       "<title>2207608071824&#45;&gt;2205988627984</title>\n",
       "<path fill=\"none\" stroke=\"black\" d=\"M184.15,-89.6C194.78,-88.32 205.69,-87.02 216.46,-85.73\"/>\n",
       "<polygon fill=\"black\" stroke=\"black\" points=\"216.61,-89.24 226.13,-84.58 215.78,-82.29 216.61,-89.24\"/>\n",
       "<text xml:space=\"preserve\" text-anchor=\"middle\" x=\"205.88\" y=\"-90.2\" font-family=\"Times New Roman,serif\" font-size=\"14.00\">+</text>\n",
       "</g>\n",
       "<!-- 2207608073808 -->\n",
       "<g id=\"node4\" class=\"node\">\n",
       "<title>2207608073808</title>\n",
       "<polygon fill=\"none\" stroke=\"black\" points=\"0.38,-27.5 0.38,-63.5 183.38,-63.5 183.38,-27.5 0.38,-27.5\"/>\n",
       "<text xml:space=\"preserve\" text-anchor=\"middle\" x=\"11.38\" y=\"-40.7\" font-family=\"Times New Roman,serif\" font-size=\"14.00\">a</text>\n",
       "<polyline fill=\"none\" stroke=\"black\" points=\"22.38,-28 22.38,-63.5\"/>\n",
       "<text xml:space=\"preserve\" text-anchor=\"middle\" x=\"62.25\" y=\"-40.7\" font-family=\"Times New Roman,serif\" font-size=\"14.00\">data 1.0000</text>\n",
       "<polyline fill=\"none\" stroke=\"black\" points=\"102.12,-28 102.12,-63.5\"/>\n",
       "<text xml:space=\"preserve\" text-anchor=\"middle\" x=\"142.75\" y=\"-40.7\" font-family=\"Times New Roman,serif\" font-size=\"14.00\">grad 4.0000</text>\n",
       "</g>\n",
       "<!-- 2207608073808&#45;&gt;2205988627984 -->\n",
       "<g id=\"edge3\" class=\"edge\">\n",
       "<title>2207608073808&#45;&gt;2205988627984</title>\n",
       "<path fill=\"none\" stroke=\"black\" d=\"M183.82,-56.77C194.56,-58.1 205.58,-59.46 216.47,-60.81\"/>\n",
       "<polygon fill=\"black\" stroke=\"black\" points=\"215.89,-64.27 226.25,-62.02 216.75,-57.32 215.89,-64.27\"/>\n",
       "<text xml:space=\"preserve\" text-anchor=\"middle\" x=\"205.88\" y=\"-62.7\" font-family=\"Times New Roman,serif\" font-size=\"14.00\">+</text>\n",
       "</g>\n",
       "<!-- 2207608072656 -->\n",
       "<g id=\"node5\" class=\"node\">\n",
       "<title>2207608072656</title>\n",
       "<polygon fill=\"none\" stroke=\"black\" points=\"228,-0.5 228,-36.5 411.75,-36.5 411.75,-0.5 228,-0.5\"/>\n",
       "<text xml:space=\"preserve\" text-anchor=\"middle\" x=\"239.38\" y=\"-13.7\" font-family=\"Times New Roman,serif\" font-size=\"14.00\">x</text>\n",
       "<polyline fill=\"none\" stroke=\"black\" points=\"250.75,-1 250.75,-36.5\"/>\n",
       "<text xml:space=\"preserve\" text-anchor=\"middle\" x=\"290.62\" y=\"-13.7\" font-family=\"Times New Roman,serif\" font-size=\"14.00\">data 4.0000</text>\n",
       "<polyline fill=\"none\" stroke=\"black\" points=\"330.5,-1 330.5,-36.5\"/>\n",
       "<text xml:space=\"preserve\" text-anchor=\"middle\" x=\"371.12\" y=\"-13.7\" font-family=\"Times New Roman,serif\" font-size=\"14.00\">grad 3.0000</text>\n",
       "</g>\n",
       "<!-- 2207608072656&#45;&gt;2205993242832 -->\n",
       "<g id=\"edge4\" class=\"edge\">\n",
       "<title>2207608072656&#45;&gt;2205993242832</title>\n",
       "<path fill=\"none\" stroke=\"black\" d=\"M412.1,-24.95C420.35,-25.61 428.58,-26.3 436.5,-27 438.58,-27.18 440.67,-27.37 442.79,-27.57\"/>\n",
       "<polygon fill=\"black\" stroke=\"black\" points=\"442.42,-31.05 452.71,-28.49 443.07,-24.08 442.42,-31.05\"/>\n",
       "<text xml:space=\"preserve\" text-anchor=\"middle\" x=\"433.12\" y=\"-30.2\" font-family=\"Times New Roman,serif\" font-size=\"14.00\">*</text>\n",
       "</g>\n",
       "</g>\n",
       "</svg>\n"
      ],
      "text/plain": [
       "<graphviz.graphs.Digraph at 0x20180fe3550>"
      ]
     },
     "execution_count": 56,
     "metadata": {},
     "output_type": "execute_result"
    }
   ],
   "source": [
    "draw_dot(m)"
   ]
  },
  {
   "cell_type": "code",
   "execution_count": 61,
   "id": "fb9c9df1-293b-47c7-bf8c-ae798b15c68f",
   "metadata": {},
   "outputs": [],
   "source": [
    "a = Tensor(2, requires_grad = True, label='a')\n",
    "b = Tensor(3, requires_grad = True, label = 'b')\n",
    "\n",
    "y = a ** 4 + b\n",
    "y.label = 'y'\n",
    "y.backward()"
   ]
  },
  {
   "cell_type": "markdown",
   "id": "3865e5b2-739c-434e-844b-5664f52a858f",
   "metadata": {},
   "source": [
    "<p>y = a ** 4 + b</p>\n",
    "\n",
    "<p>dy/dy = 1</p>\n",
    "\n",
    "<p>dy/da = 4a ** 3 = 4(2) **3 = 32</p>\n",
    "<p> dy/db = 1 </p>"
   ]
  },
  {
   "cell_type": "code",
   "execution_count": 12,
   "id": "adbf24f8-cf31-4dab-b840-371f3baaab62",
   "metadata": {},
   "outputs": [
    {
     "data": {
      "image/svg+xml": [
       "<?xml version=\"1.0\" encoding=\"UTF-8\" standalone=\"no\"?>\n",
       "<!DOCTYPE svg PUBLIC \"-//W3C//DTD SVG 1.1//EN\"\n",
       " \"http://www.w3.org/Graphics/SVG/1.1/DTD/svg11.dtd\">\n",
       "<!-- Generated by graphviz version 13.1.0 (20250701.0955)\n",
       " -->\n",
       "<!-- Pages: 1 -->\n",
       "<svg width=\"670pt\" height=\"100pt\"\n",
       " viewBox=\"0.00 0.00 670.00 100.00\" xmlns=\"http://www.w3.org/2000/svg\" xmlns:xlink=\"http://www.w3.org/1999/xlink\">\n",
       "<g id=\"graph0\" class=\"graph\" transform=\"scale(1 1) rotate(0) translate(4 96)\">\n",
       "<polygon fill=\"white\" stroke=\"none\" points=\"-4,4 -4,-96 665.5,-96 665.5,4 -4,4\"/>\n",
       "<!-- 1609716442704 -->\n",
       "<g id=\"node1\" class=\"node\">\n",
       "<title>1609716442704</title>\n",
       "<polygon fill=\"none\" stroke=\"black\" points=\"471,-20.5 471,-56.5 661.5,-56.5 661.5,-20.5 471,-20.5\"/>\n",
       "<text xml:space=\"preserve\" text-anchor=\"middle\" x=\"482.38\" y=\"-33.7\" font-family=\"Times New Roman,serif\" font-size=\"14.00\">y</text>\n",
       "<polyline fill=\"none\" stroke=\"black\" points=\"493.75,-21 493.75,-56.5\"/>\n",
       "<text xml:space=\"preserve\" text-anchor=\"middle\" x=\"537\" y=\"-33.7\" font-family=\"Times New Roman,serif\" font-size=\"14.00\">data 19.0000</text>\n",
       "<polyline fill=\"none\" stroke=\"black\" points=\"580.25,-21 580.25,-56.5\"/>\n",
       "<text xml:space=\"preserve\" text-anchor=\"middle\" x=\"620.88\" y=\"-33.7\" font-family=\"Times New Roman,serif\" font-size=\"14.00\">grad 1.0000</text>\n",
       "</g>\n",
       "<!-- 1610229571024 -->\n",
       "<g id=\"node2\" class=\"node\">\n",
       "<title>1610229571024</title>\n",
       "<polygon fill=\"none\" stroke=\"black\" points=\"239.25,-55.5 239.25,-91.5 426.75,-91.5 426.75,-55.5 239.25,-55.5\"/>\n",
       "<text xml:space=\"preserve\" text-anchor=\"middle\" x=\"249.12\" y=\"-68.7\" font-family=\"Times New Roman,serif\" font-size=\"14.00\"> </text>\n",
       "<polyline fill=\"none\" stroke=\"black\" points=\"259,-56 259,-91.5\"/>\n",
       "<text xml:space=\"preserve\" text-anchor=\"middle\" x=\"302.25\" y=\"-68.7\" font-family=\"Times New Roman,serif\" font-size=\"14.00\">data 16.0000</text>\n",
       "<polyline fill=\"none\" stroke=\"black\" points=\"345.5,-56 345.5,-91.5\"/>\n",
       "<text xml:space=\"preserve\" text-anchor=\"middle\" x=\"386.12\" y=\"-68.7\" font-family=\"Times New Roman,serif\" font-size=\"14.00\">grad 1.0000</text>\n",
       "</g>\n",
       "<!-- 1610229571024&#45;&gt;1609716442704 -->\n",
       "<g id=\"edge1\" class=\"edge\">\n",
       "<title>1610229571024&#45;&gt;1609716442704</title>\n",
       "<path fill=\"none\" stroke=\"black\" d=\"M427.06,-59.42C437.77,-57.79 448.75,-56.13 459.61,-54.49\"/>\n",
       "<polygon fill=\"black\" stroke=\"black\" points=\"460.01,-57.97 469.38,-53.01 458.97,-51.05 460.01,-57.97\"/>\n",
       "<text xml:space=\"preserve\" text-anchor=\"middle\" x=\"448.88\" y=\"-59.2\" font-family=\"Times New Roman,serif\" font-size=\"14.00\">+</text>\n",
       "</g>\n",
       "<!-- 1610223156560 -->\n",
       "<g id=\"node3\" class=\"node\">\n",
       "<title>1610223156560</title>\n",
       "<polygon fill=\"none\" stroke=\"black\" points=\"0,-55.5 0,-91.5 189.75,-91.5 189.75,-55.5 0,-55.5\"/>\n",
       "<text xml:space=\"preserve\" text-anchor=\"middle\" x=\"11\" y=\"-68.7\" font-family=\"Times New Roman,serif\" font-size=\"14.00\">a</text>\n",
       "<polyline fill=\"none\" stroke=\"black\" points=\"22,-56 22,-91.5\"/>\n",
       "<text xml:space=\"preserve\" text-anchor=\"middle\" x=\"61.88\" y=\"-68.7\" font-family=\"Times New Roman,serif\" font-size=\"14.00\">data 2.0000</text>\n",
       "<polyline fill=\"none\" stroke=\"black\" points=\"101.75,-56 101.75,-91.5\"/>\n",
       "<text xml:space=\"preserve\" text-anchor=\"middle\" x=\"145.75\" y=\"-68.7\" font-family=\"Times New Roman,serif\" font-size=\"14.00\">grad 32.0000</text>\n",
       "</g>\n",
       "<!-- 1610223156560&#45;&gt;1610229571024 -->\n",
       "<g id=\"edge2\" class=\"edge\">\n",
       "<title>1610223156560&#45;&gt;1610229571024</title>\n",
       "<path fill=\"none\" stroke=\"black\" d=\"M190.22,-73.5C202.51,-73.5 215.16,-73.5 227.61,-73.5\"/>\n",
       "<polygon fill=\"black\" stroke=\"black\" points=\"227.45,-77 237.45,-73.5 227.45,-70 227.45,-77\"/>\n",
       "<text xml:space=\"preserve\" text-anchor=\"middle\" x=\"214.5\" y=\"-76.7\" font-family=\"Times New Roman,serif\" font-size=\"14.00\">**</text>\n",
       "</g>\n",
       "<!-- 1610223155024 -->\n",
       "<g id=\"node4\" class=\"node\">\n",
       "<title>1610223155024</title>\n",
       "<polygon fill=\"none\" stroke=\"black\" points=\"241.12,-0.5 241.12,-36.5 424.88,-36.5 424.88,-0.5 241.12,-0.5\"/>\n",
       "<text xml:space=\"preserve\" text-anchor=\"middle\" x=\"252.5\" y=\"-13.7\" font-family=\"Times New Roman,serif\" font-size=\"14.00\">b</text>\n",
       "<polyline fill=\"none\" stroke=\"black\" points=\"263.88,-1 263.88,-36.5\"/>\n",
       "<text xml:space=\"preserve\" text-anchor=\"middle\" x=\"303.75\" y=\"-13.7\" font-family=\"Times New Roman,serif\" font-size=\"14.00\">data 3.0000</text>\n",
       "<polyline fill=\"none\" stroke=\"black\" points=\"343.62,-1 343.62,-36.5\"/>\n",
       "<text xml:space=\"preserve\" text-anchor=\"middle\" x=\"384.25\" y=\"-13.7\" font-family=\"Times New Roman,serif\" font-size=\"14.00\">grad 1.0000</text>\n",
       "</g>\n",
       "<!-- 1610223155024&#45;&gt;1609716442704 -->\n",
       "<g id=\"edge3\" class=\"edge\">\n",
       "<title>1610223155024&#45;&gt;1609716442704</title>\n",
       "<path fill=\"none\" stroke=\"black\" d=\"M425.31,-24.73C434.66,-25.46 444.02,-26.22 453,-27 455.07,-27.18 457.16,-27.36 459.27,-27.55\"/>\n",
       "<polygon fill=\"black\" stroke=\"black\" points=\"458.86,-31.03 469.14,-28.46 459.5,-24.06 458.86,-31.03\"/>\n",
       "<text xml:space=\"preserve\" text-anchor=\"middle\" x=\"448.88\" y=\"-30.2\" font-family=\"Times New Roman,serif\" font-size=\"14.00\">+</text>\n",
       "</g>\n",
       "</g>\n",
       "</svg>\n"
      ],
      "text/plain": [
       "<graphviz.graphs.Digraph at 0x176e8c76e90>"
      ]
     },
     "execution_count": 12,
     "metadata": {},
     "output_type": "execute_result"
    }
   ],
   "source": [
    "draw_dot(y)"
   ]
  },
  {
   "cell_type": "code",
   "execution_count": 13,
   "id": "076ef20b-43be-4b61-b023-322588c7c24a",
   "metadata": {},
   "outputs": [],
   "source": [
    "x = Tensor(4, requires_grad=True, label='x')\n",
    "\n",
    "z = (y ** 2) * x\n",
    "z.backward()"
   ]
  },
  {
   "cell_type": "code",
   "execution_count": 14,
   "id": "9821424d-273f-4ad8-8505-85e7f8032765",
   "metadata": {},
   "outputs": [
    {
     "data": {
      "image/svg+xml": [
       "<?xml version=\"1.0\" encoding=\"UTF-8\" standalone=\"no\"?>\n",
       "<!DOCTYPE svg PUBLIC \"-//W3C//DTD SVG 1.1//EN\"\n",
       " \"http://www.w3.org/Graphics/SVG/1.1/DTD/svg11.dtd\">\n",
       "<!-- Generated by graphviz version 13.1.0 (20250701.0955)\n",
       " -->\n",
       "<!-- Pages: 1 -->\n",
       "<svg width=\"1201pt\" height=\"120pt\"\n",
       " viewBox=\"0.00 0.00 1201.00 120.00\" xmlns=\"http://www.w3.org/2000/svg\" xmlns:xlink=\"http://www.w3.org/1999/xlink\">\n",
       "<g id=\"graph0\" class=\"graph\" transform=\"scale(1 1) rotate(0) translate(4 116)\">\n",
       "<polygon fill=\"white\" stroke=\"none\" points=\"-4,4 -4,-116 1196.5,-116 1196.5,4 -4,4\"/>\n",
       "<!-- 1610229564432 -->\n",
       "<g id=\"node1\" class=\"node\">\n",
       "<title>1610229564432</title>\n",
       "<polygon fill=\"none\" stroke=\"black\" points=\"991.5,-48.5 991.5,-84.5 1192.5,-84.5 1192.5,-48.5 991.5,-48.5\"/>\n",
       "<text xml:space=\"preserve\" text-anchor=\"middle\" x=\"1001.38\" y=\"-61.7\" font-family=\"Times New Roman,serif\" font-size=\"14.00\"> </text>\n",
       "<polyline fill=\"none\" stroke=\"black\" points=\"1011.25,-49 1011.25,-84.5\"/>\n",
       "<text xml:space=\"preserve\" text-anchor=\"middle\" x=\"1061.25\" y=\"-61.7\" font-family=\"Times New Roman,serif\" font-size=\"14.00\">data 1444.0000</text>\n",
       "<polyline fill=\"none\" stroke=\"black\" points=\"1111.25,-49 1111.25,-84.5\"/>\n",
       "<text xml:space=\"preserve\" text-anchor=\"middle\" x=\"1151.88\" y=\"-61.7\" font-family=\"Times New Roman,serif\" font-size=\"14.00\">grad 1.0000</text>\n",
       "</g>\n",
       "<!-- 1610221253520 -->\n",
       "<g id=\"node2\" class=\"node\">\n",
       "<title>1610221253520</title>\n",
       "<polygon fill=\"none\" stroke=\"black\" points=\"751.5,-75.5 751.5,-111.5 948.75,-111.5 948.75,-75.5 751.5,-75.5\"/>\n",
       "<text xml:space=\"preserve\" text-anchor=\"middle\" x=\"762.88\" y=\"-88.7\" font-family=\"Times New Roman,serif\" font-size=\"14.00\">x</text>\n",
       "<polyline fill=\"none\" stroke=\"black\" points=\"774.25,-76 774.25,-111.5\"/>\n",
       "<text xml:space=\"preserve\" text-anchor=\"middle\" x=\"814.12\" y=\"-88.7\" font-family=\"Times New Roman,serif\" font-size=\"14.00\">data 4.0000</text>\n",
       "<polyline fill=\"none\" stroke=\"black\" points=\"854,-76 854,-111.5\"/>\n",
       "<text xml:space=\"preserve\" text-anchor=\"middle\" x=\"901.38\" y=\"-88.7\" font-family=\"Times New Roman,serif\" font-size=\"14.00\">grad 361.0000</text>\n",
       "</g>\n",
       "<!-- 1610221253520&#45;&gt;1610229564432 -->\n",
       "<g id=\"edge1\" class=\"edge\">\n",
       "<title>1610221253520&#45;&gt;1610229564432</title>\n",
       "<path fill=\"none\" stroke=\"black\" d=\"M949.04,-82.48C959.22,-81.33 969.62,-80.16 979.93,-79\"/>\n",
       "<polygon fill=\"black\" stroke=\"black\" points=\"980.02,-82.51 989.56,-77.92 979.23,-75.56 980.02,-82.51\"/>\n",
       "<text xml:space=\"preserve\" text-anchor=\"middle\" x=\"970.12\" y=\"-83.2\" font-family=\"Times New Roman,serif\" font-size=\"14.00\">*</text>\n",
       "</g>\n",
       "<!-- 1610230584784 -->\n",
       "<g id=\"node3\" class=\"node\">\n",
       "<title>1610230584784</title>\n",
       "<polygon fill=\"none\" stroke=\"black\" points=\"753,-20.5 753,-56.5 947.25,-56.5 947.25,-20.5 753,-20.5\"/>\n",
       "<text xml:space=\"preserve\" text-anchor=\"middle\" x=\"762.88\" y=\"-33.7\" font-family=\"Times New Roman,serif\" font-size=\"14.00\"> </text>\n",
       "<polyline fill=\"none\" stroke=\"black\" points=\"772.75,-21 772.75,-56.5\"/>\n",
       "<text xml:space=\"preserve\" text-anchor=\"middle\" x=\"819.38\" y=\"-33.7\" font-family=\"Times New Roman,serif\" font-size=\"14.00\">data 361.0000</text>\n",
       "<polyline fill=\"none\" stroke=\"black\" points=\"866,-21 866,-56.5\"/>\n",
       "<text xml:space=\"preserve\" text-anchor=\"middle\" x=\"906.62\" y=\"-33.7\" font-family=\"Times New Roman,serif\" font-size=\"14.00\">grad 4.0000</text>\n",
       "</g>\n",
       "<!-- 1610230584784&#45;&gt;1610229564432 -->\n",
       "<g id=\"edge2\" class=\"edge\">\n",
       "<title>1610230584784&#45;&gt;1610229564432</title>\n",
       "<path fill=\"none\" stroke=\"black\" d=\"M947.65,-49.77C958.28,-51.01 969.17,-52.28 979.95,-53.54\"/>\n",
       "<polygon fill=\"black\" stroke=\"black\" points=\"979.3,-56.99 989.64,-54.67 980.12,-50.03 979.3,-56.99\"/>\n",
       "<text xml:space=\"preserve\" text-anchor=\"middle\" x=\"970.12\" y=\"-55.7\" font-family=\"Times New Roman,serif\" font-size=\"14.00\">*</text>\n",
       "</g>\n",
       "<!-- 1609716442704 -->\n",
       "<g id=\"node4\" class=\"node\">\n",
       "<title>1609716442704</title>\n",
       "<polygon fill=\"none\" stroke=\"black\" points=\"498,-20.5 498,-56.5 702,-56.5 702,-20.5 498,-20.5\"/>\n",
       "<text xml:space=\"preserve\" text-anchor=\"middle\" x=\"509.38\" y=\"-33.7\" font-family=\"Times New Roman,serif\" font-size=\"14.00\">y</text>\n",
       "<polyline fill=\"none\" stroke=\"black\" points=\"520.75,-21 520.75,-56.5\"/>\n",
       "<text xml:space=\"preserve\" text-anchor=\"middle\" x=\"564\" y=\"-33.7\" font-family=\"Times New Roman,serif\" font-size=\"14.00\">data 19.0000</text>\n",
       "<polyline fill=\"none\" stroke=\"black\" points=\"607.25,-21 607.25,-56.5\"/>\n",
       "<text xml:space=\"preserve\" text-anchor=\"middle\" x=\"654.62\" y=\"-33.7\" font-family=\"Times New Roman,serif\" font-size=\"14.00\">grad 152.0000</text>\n",
       "</g>\n",
       "<!-- 1609716442704&#45;&gt;1610230584784 -->\n",
       "<g id=\"edge3\" class=\"edge\">\n",
       "<title>1609716442704&#45;&gt;1610230584784</title>\n",
       "<path fill=\"none\" stroke=\"black\" d=\"M702.28,-38.5C715.13,-38.5 728.32,-38.5 741.27,-38.5\"/>\n",
       "<polygon fill=\"black\" stroke=\"black\" points=\"741.06,-42 751.06,-38.5 741.06,-35 741.06,-42\"/>\n",
       "<text xml:space=\"preserve\" text-anchor=\"middle\" x=\"726.75\" y=\"-41.7\" font-family=\"Times New Roman,serif\" font-size=\"14.00\">**</text>\n",
       "</g>\n",
       "<!-- 1610229571024 -->\n",
       "<g id=\"node5\" class=\"node\">\n",
       "<title>1610229571024</title>\n",
       "<polygon fill=\"none\" stroke=\"black\" points=\"252.75,-55.5 252.75,-91.5 453.75,-91.5 453.75,-55.5 252.75,-55.5\"/>\n",
       "<text xml:space=\"preserve\" text-anchor=\"middle\" x=\"262.62\" y=\"-68.7\" font-family=\"Times New Roman,serif\" font-size=\"14.00\"> </text>\n",
       "<polyline fill=\"none\" stroke=\"black\" points=\"272.5,-56 272.5,-91.5\"/>\n",
       "<text xml:space=\"preserve\" text-anchor=\"middle\" x=\"315.75\" y=\"-68.7\" font-family=\"Times New Roman,serif\" font-size=\"14.00\">data 16.0000</text>\n",
       "<polyline fill=\"none\" stroke=\"black\" points=\"359,-56 359,-91.5\"/>\n",
       "<text xml:space=\"preserve\" text-anchor=\"middle\" x=\"406.38\" y=\"-68.7\" font-family=\"Times New Roman,serif\" font-size=\"14.00\">grad 152.0000</text>\n",
       "</g>\n",
       "<!-- 1610229571024&#45;&gt;1609716442704 -->\n",
       "<g id=\"edge4\" class=\"edge\">\n",
       "<title>1610229571024&#45;&gt;1609716442704</title>\n",
       "<path fill=\"none\" stroke=\"black\" d=\"M454.15,-59.21C464.85,-57.68 475.78,-56.12 486.6,-54.57\"/>\n",
       "<polygon fill=\"black\" stroke=\"black\" points=\"486.93,-58.06 496.33,-53.18 485.94,-51.13 486.93,-58.06\"/>\n",
       "<text xml:space=\"preserve\" text-anchor=\"middle\" x=\"475.88\" y=\"-59.2\" font-family=\"Times New Roman,serif\" font-size=\"14.00\">+</text>\n",
       "</g>\n",
       "<!-- 1610223156560 -->\n",
       "<g id=\"node6\" class=\"node\">\n",
       "<title>1610223156560</title>\n",
       "<polygon fill=\"none\" stroke=\"black\" points=\"0,-55.5 0,-91.5 203.25,-91.5 203.25,-55.5 0,-55.5\"/>\n",
       "<text xml:space=\"preserve\" text-anchor=\"middle\" x=\"11\" y=\"-68.7\" font-family=\"Times New Roman,serif\" font-size=\"14.00\">a</text>\n",
       "<polyline fill=\"none\" stroke=\"black\" points=\"22,-56 22,-91.5\"/>\n",
       "<text xml:space=\"preserve\" text-anchor=\"middle\" x=\"61.88\" y=\"-68.7\" font-family=\"Times New Roman,serif\" font-size=\"14.00\">data 2.0000</text>\n",
       "<polyline fill=\"none\" stroke=\"black\" points=\"101.75,-56 101.75,-91.5\"/>\n",
       "<text xml:space=\"preserve\" text-anchor=\"middle\" x=\"152.5\" y=\"-68.7\" font-family=\"Times New Roman,serif\" font-size=\"14.00\">grad 4864.0000</text>\n",
       "</g>\n",
       "<!-- 1610223156560&#45;&gt;1610229571024 -->\n",
       "<g id=\"edge5\" class=\"edge\">\n",
       "<title>1610223156560&#45;&gt;1610229571024</title>\n",
       "<path fill=\"none\" stroke=\"black\" d=\"M203.44,-73.5C215.77,-73.5 228.42,-73.5 240.89,-73.5\"/>\n",
       "<polygon fill=\"black\" stroke=\"black\" points=\"240.76,-77 250.76,-73.5 240.76,-70 240.76,-77\"/>\n",
       "<text xml:space=\"preserve\" text-anchor=\"middle\" x=\"228\" y=\"-76.7\" font-family=\"Times New Roman,serif\" font-size=\"14.00\">**</text>\n",
       "</g>\n",
       "<!-- 1610223155024 -->\n",
       "<g id=\"node7\" class=\"node\">\n",
       "<title>1610223155024</title>\n",
       "<polygon fill=\"none\" stroke=\"black\" points=\"254.62,-0.5 254.62,-36.5 451.88,-36.5 451.88,-0.5 254.62,-0.5\"/>\n",
       "<text xml:space=\"preserve\" text-anchor=\"middle\" x=\"266\" y=\"-13.7\" font-family=\"Times New Roman,serif\" font-size=\"14.00\">b</text>\n",
       "<polyline fill=\"none\" stroke=\"black\" points=\"277.38,-1 277.38,-36.5\"/>\n",
       "<text xml:space=\"preserve\" text-anchor=\"middle\" x=\"317.25\" y=\"-13.7\" font-family=\"Times New Roman,serif\" font-size=\"14.00\">data 3.0000</text>\n",
       "<polyline fill=\"none\" stroke=\"black\" points=\"357.12,-1 357.12,-36.5\"/>\n",
       "<text xml:space=\"preserve\" text-anchor=\"middle\" x=\"404.5\" y=\"-13.7\" font-family=\"Times New Roman,serif\" font-size=\"14.00\">grad 152.0000</text>\n",
       "</g>\n",
       "<!-- 1610223155024&#45;&gt;1609716442704 -->\n",
       "<g id=\"edge6\" class=\"edge\">\n",
       "<title>1610223155024&#45;&gt;1609716442704</title>\n",
       "<path fill=\"none\" stroke=\"black\" d=\"M452.1,-24.84C461.53,-25.53 470.95,-26.26 480,-27 482.08,-27.17 484.18,-27.35 486.3,-27.53\"/>\n",
       "<polygon fill=\"black\" stroke=\"black\" points=\"485.97,-31.01 496.23,-28.38 486.57,-24.04 485.97,-31.01\"/>\n",
       "<text xml:space=\"preserve\" text-anchor=\"middle\" x=\"475.88\" y=\"-30.2\" font-family=\"Times New Roman,serif\" font-size=\"14.00\">+</text>\n",
       "</g>\n",
       "</g>\n",
       "</svg>\n"
      ],
      "text/plain": [
       "<graphviz.graphs.Digraph at 0x176e93d8290>"
      ]
     },
     "execution_count": 14,
     "metadata": {},
     "output_type": "execute_result"
    }
   ],
   "source": [
    "draw_dot(z)"
   ]
  },
  {
   "cell_type": "code",
   "execution_count": null,
   "id": "1352e2d7-6917-40d1-8aaa-daeb6609bf1a",
   "metadata": {},
   "outputs": [],
   "source": [
    "# z = ((a**4 +b) ** 2 ) * x\n",
    "# dz/da = x * (2 *(a**4 + b)*2 (4a**3) )"
   ]
  },
  {
   "cell_type": "code",
   "execution_count": 22,
   "id": "01170af2-ed46-4c41-9a05-b9e3100f53a1",
   "metadata": {},
   "outputs": [],
   "source": [
    "s = Tensor(np.array([1, 2, 4]) ,label='s', requires_grad=True)\n",
    "\n",
    "r = s ** 2\n",
    "r.backward()"
   ]
  },
  {
   "cell_type": "code",
   "execution_count": 23,
   "id": "e8d0764e-e6ca-4a0d-9084-54fb663012b5",
   "metadata": {},
   "outputs": [
    {
     "data": {
      "text/plain": [
       "array([2., 4., 8.])"
      ]
     },
     "execution_count": 23,
     "metadata": {},
     "output_type": "execute_result"
    }
   ],
   "source": [
    "r\n",
    "s.grad"
   ]
  },
  {
   "cell_type": "code",
   "execution_count": 64,
   "id": "b7a98854-dc73-4c9b-b840-23ab60d4f0e1",
   "metadata": {},
   "outputs": [],
   "source": [
    "y = a-b"
   ]
  },
  {
   "cell_type": "code",
   "execution_count": 65,
   "id": "2c1a241c-3d38-4aa1-9518-8ee28d732e4a",
   "metadata": {},
   "outputs": [
    {
     "data": {
      "image/svg+xml": [
       "<?xml version=\"1.0\" encoding=\"UTF-8\" standalone=\"no\"?>\n",
       "<!DOCTYPE svg PUBLIC \"-//W3C//DTD SVG 1.1//EN\"\n",
       " \"http://www.w3.org/Graphics/SVG/1.1/DTD/svg11.dtd\">\n",
       "<!-- Generated by graphviz version 13.1.0 (20250701.0955)\n",
       " -->\n",
       "<!-- Pages: 1 -->\n",
       "<svg width=\"654pt\" height=\"127pt\"\n",
       " viewBox=\"0.00 0.00 654.00 127.00\" xmlns=\"http://www.w3.org/2000/svg\" xmlns:xlink=\"http://www.w3.org/1999/xlink\">\n",
       "<g id=\"graph0\" class=\"graph\" transform=\"scale(1 1) rotate(0) translate(4 123)\">\n",
       "<polygon fill=\"white\" stroke=\"none\" points=\"-4,4 -4,-123 649.75,-123 649.75,4 -4,4\"/>\n",
       "<!-- 1610231885776 -->\n",
       "<g id=\"node1\" class=\"node\">\n",
       "<title>1610231885776</title>\n",
       "<polygon fill=\"none\" stroke=\"black\" points=\"460.5,-55.5 460.5,-91.5 645.75,-91.5 645.75,-55.5 460.5,-55.5\"/>\n",
       "<text xml:space=\"preserve\" text-anchor=\"middle\" x=\"470.38\" y=\"-68.7\" font-family=\"Times New Roman,serif\" font-size=\"14.00\"> </text>\n",
       "<polyline fill=\"none\" stroke=\"black\" points=\"480.25,-56 480.25,-91.5\"/>\n",
       "<text xml:space=\"preserve\" text-anchor=\"middle\" x=\"522.38\" y=\"-68.7\" font-family=\"Times New Roman,serif\" font-size=\"14.00\">data &#45;1.0000</text>\n",
       "<polyline fill=\"none\" stroke=\"black\" points=\"564.5,-56 564.5,-91.5\"/>\n",
       "<text xml:space=\"preserve\" text-anchor=\"middle\" x=\"605.12\" y=\"-68.7\" font-family=\"Times New Roman,serif\" font-size=\"14.00\">grad 1.0000</text>\n",
       "</g>\n",
       "<!-- 1610232064336 -->\n",
       "<g id=\"node2\" class=\"node\">\n",
       "<title>1610232064336</title>\n",
       "<polygon fill=\"none\" stroke=\"black\" points=\"232.12,-82.5 232.12,-118.5 415.12,-118.5 415.12,-82.5 232.12,-82.5\"/>\n",
       "<text xml:space=\"preserve\" text-anchor=\"middle\" x=\"243.12\" y=\"-95.7\" font-family=\"Times New Roman,serif\" font-size=\"14.00\">a</text>\n",
       "<polyline fill=\"none\" stroke=\"black\" points=\"254.12,-83 254.12,-118.5\"/>\n",
       "<text xml:space=\"preserve\" text-anchor=\"middle\" x=\"294\" y=\"-95.7\" font-family=\"Times New Roman,serif\" font-size=\"14.00\">data 2.0000</text>\n",
       "<polyline fill=\"none\" stroke=\"black\" points=\"333.88,-83 333.88,-118.5\"/>\n",
       "<text xml:space=\"preserve\" text-anchor=\"middle\" x=\"374.5\" y=\"-95.7\" font-family=\"Times New Roman,serif\" font-size=\"14.00\">grad 1.0000</text>\n",
       "</g>\n",
       "<!-- 1610232064336&#45;&gt;1610231885776 -->\n",
       "<g id=\"edge1\" class=\"edge\">\n",
       "<title>1610232064336&#45;&gt;1610231885776</title>\n",
       "<path fill=\"none\" stroke=\"black\" d=\"M415.52,-89.71C426.57,-88.4 437.91,-87.05 449.12,-85.73\"/>\n",
       "<polygon fill=\"black\" stroke=\"black\" points=\"449.24,-89.24 458.76,-84.58 448.41,-82.28 449.24,-89.24\"/>\n",
       "<text xml:space=\"preserve\" text-anchor=\"middle\" x=\"438.38\" y=\"-90.2\" font-family=\"Times New Roman,serif\" font-size=\"14.00\">+</text>\n",
       "</g>\n",
       "<!-- 1610231888080 -->\n",
       "<g id=\"node3\" class=\"node\">\n",
       "<title>1610231888080</title>\n",
       "<polygon fill=\"none\" stroke=\"black\" points=\"231,-27.5 231,-63.5 416.25,-63.5 416.25,-27.5 231,-27.5\"/>\n",
       "<text xml:space=\"preserve\" text-anchor=\"middle\" x=\"240.88\" y=\"-40.7\" font-family=\"Times New Roman,serif\" font-size=\"14.00\"> </text>\n",
       "<polyline fill=\"none\" stroke=\"black\" points=\"250.75,-28 250.75,-63.5\"/>\n",
       "<text xml:space=\"preserve\" text-anchor=\"middle\" x=\"292.88\" y=\"-40.7\" font-family=\"Times New Roman,serif\" font-size=\"14.00\">data &#45;3.0000</text>\n",
       "<polyline fill=\"none\" stroke=\"black\" points=\"335,-28 335,-63.5\"/>\n",
       "<text xml:space=\"preserve\" text-anchor=\"middle\" x=\"375.62\" y=\"-40.7\" font-family=\"Times New Roman,serif\" font-size=\"14.00\">grad 1.0000</text>\n",
       "</g>\n",
       "<!-- 1610231888080&#45;&gt;1610231885776 -->\n",
       "<g id=\"edge2\" class=\"edge\">\n",
       "<title>1610231888080&#45;&gt;1610231885776</title>\n",
       "<path fill=\"none\" stroke=\"black\" d=\"M416.5,-56.81C427.21,-58.13 438.19,-59.48 449.04,-60.81\"/>\n",
       "<polygon fill=\"black\" stroke=\"black\" points=\"448.42,-64.26 458.77,-62.01 449.27,-57.32 448.42,-64.26\"/>\n",
       "<text xml:space=\"preserve\" text-anchor=\"middle\" x=\"438.38\" y=\"-62.7\" font-family=\"Times New Roman,serif\" font-size=\"14.00\">+</text>\n",
       "</g>\n",
       "<!-- 1609691098896 -->\n",
       "<g id=\"node4\" class=\"node\">\n",
       "<title>1609691098896</title>\n",
       "<polygon fill=\"none\" stroke=\"black\" points=\"0,-55.5 0,-91.5 188.25,-91.5 188.25,-55.5 0,-55.5\"/>\n",
       "<text xml:space=\"preserve\" text-anchor=\"middle\" x=\"11.38\" y=\"-68.7\" font-family=\"Times New Roman,serif\" font-size=\"14.00\">b</text>\n",
       "<polyline fill=\"none\" stroke=\"black\" points=\"22.75,-56 22.75,-91.5\"/>\n",
       "<text xml:space=\"preserve\" text-anchor=\"middle\" x=\"62.62\" y=\"-68.7\" font-family=\"Times New Roman,serif\" font-size=\"14.00\">data 3.0000</text>\n",
       "<polyline fill=\"none\" stroke=\"black\" points=\"102.5,-56 102.5,-91.5\"/>\n",
       "<text xml:space=\"preserve\" text-anchor=\"middle\" x=\"145.38\" y=\"-68.7\" font-family=\"Times New Roman,serif\" font-size=\"14.00\">grad &#45;1.0000</text>\n",
       "</g>\n",
       "<!-- 1609691098896&#45;&gt;1610231888080 -->\n",
       "<g id=\"edge3\" class=\"edge\">\n",
       "<title>1609691098896&#45;&gt;1610231888080</title>\n",
       "<path fill=\"none\" stroke=\"black\" d=\"M188.64,-61.99C198.7,-60.75 208.98,-59.49 219.15,-58.23\"/>\n",
       "<polygon fill=\"black\" stroke=\"black\" points=\"219.57,-61.71 229.07,-57.01 218.72,-54.76 219.57,-61.71\"/>\n",
       "<text xml:space=\"preserve\" text-anchor=\"middle\" x=\"209.62\" y=\"-62.7\" font-family=\"Times New Roman,serif\" font-size=\"14.00\">*</text>\n",
       "</g>\n",
       "<!-- 1610230489808 -->\n",
       "<g id=\"node5\" class=\"node\">\n",
       "<title>1610230489808</title>\n",
       "<polygon fill=\"none\" stroke=\"black\" points=\"1.5,-0.5 1.5,-36.5 186.75,-36.5 186.75,-0.5 1.5,-0.5\"/>\n",
       "<text xml:space=\"preserve\" text-anchor=\"middle\" x=\"11.38\" y=\"-13.7\" font-family=\"Times New Roman,serif\" font-size=\"14.00\"> </text>\n",
       "<polyline fill=\"none\" stroke=\"black\" points=\"21.25,-1 21.25,-36.5\"/>\n",
       "<text xml:space=\"preserve\" text-anchor=\"middle\" x=\"63.38\" y=\"-13.7\" font-family=\"Times New Roman,serif\" font-size=\"14.00\">data &#45;1.0000</text>\n",
       "<polyline fill=\"none\" stroke=\"black\" points=\"105.5,-1 105.5,-36.5\"/>\n",
       "<text xml:space=\"preserve\" text-anchor=\"middle\" x=\"146.12\" y=\"-13.7\" font-family=\"Times New Roman,serif\" font-size=\"14.00\">grad 0.0000</text>\n",
       "</g>\n",
       "<!-- 1610230489808&#45;&gt;1610231888080 -->\n",
       "<g id=\"edge4\" class=\"edge\">\n",
       "<title>1610230489808&#45;&gt;1610231888080</title>\n",
       "<path fill=\"none\" stroke=\"black\" d=\"M187,-29.4C197.71,-30.68 208.69,-31.98 219.54,-33.27\"/>\n",
       "<polygon fill=\"black\" stroke=\"black\" points=\"218.93,-36.72 229.27,-34.42 219.75,-29.77 218.93,-36.72\"/>\n",
       "<text xml:space=\"preserve\" text-anchor=\"middle\" x=\"209.62\" y=\"-35.2\" font-family=\"Times New Roman,serif\" font-size=\"14.00\">*</text>\n",
       "</g>\n",
       "</g>\n",
       "</svg>\n"
      ],
      "text/plain": [
       "<graphviz.graphs.Digraph at 0x176e9392e50>"
      ]
     },
     "execution_count": 65,
     "metadata": {},
     "output_type": "execute_result"
    }
   ],
   "source": [
    "y.backward()\n",
    "draw_dot(y)"
   ]
  },
  {
   "cell_type": "code",
   "execution_count": 72,
   "id": "f877ae62-0634-43c3-8c4b-5f874e6485e4",
   "metadata": {},
   "outputs": [],
   "source": [
    "c = Tensor(np.array([2, 4]), label='c', requires_grad = True)\n",
    "d = Tensor(2, label='d', requires_grad = True)\n",
    "\n",
    "e = c / d\n",
    "e.backward()"
   ]
  },
  {
   "cell_type": "code",
   "execution_count": 77,
   "id": "86b26cec-c0ce-4e64-93f7-2653a6bca9c4",
   "metadata": {},
   "outputs": [
    {
     "name": "stdout",
     "output_type": "stream",
     "text": [
      "0.5 [-0.5 -1. ]\n"
     ]
    }
   ],
   "source": [
    "print(c.grad, d.grad)"
   ]
  },
  {
   "cell_type": "code",
   "execution_count": null,
   "id": "45d1315c-0ea3-4fad-8064-0a06a52467a7",
   "metadata": {},
   "outputs": [],
   "source": []
  }
 ],
 "metadata": {
  "kernelspec": {
   "display_name": "Python 3 (ipykernel)",
   "language": "python",
   "name": "python3"
  },
  "language_info": {
   "codemirror_mode": {
    "name": "ipython",
    "version": 3
   },
   "file_extension": ".py",
   "mimetype": "text/x-python",
   "name": "python",
   "nbconvert_exporter": "python",
   "pygments_lexer": "ipython3",
   "version": "3.11.3"
  }
 },
 "nbformat": 4,
 "nbformat_minor": 5
}
