{
 "cells": [
  {
   "cell_type": "code",
   "execution_count": 42,
   "id": "c59c76c7-1a48-4cf9-a523-a6fe435f66e0",
   "metadata": {},
   "outputs": [],
   "source": [
    "import numpy as np"
   ]
  },
  {
   "cell_type": "code",
   "execution_count": 172,
   "id": "5e858a9d-4082-4b4f-b8c9-e022949db2fd",
   "metadata": {},
   "outputs": [],
   "source": [
    "class Tensor:\n",
    "    def __init__ (self, data, requires_grad=False):\n",
    "        self.data =  data\n",
    "        self.requires_grad = requires_grad\n",
    "        self.grad = 0\n",
    "        self.grad_fn = None\n",
    "\n",
    "    def __repr__(self):\n",
    "        return f\"tensor(data={self.data}, requires_grad={self.requires_grad})\"\n",
    "\n",
    "    def backward(self, grad_output=None):\n",
    "        if grad_output == None:\n",
    "            grad_output = 1.0\n",
    "\n",
    "        self.grad = grad_output\n",
    "\n",
    "        if self.grad_fn:\n",
    "            self.grad_fn.backward(grad_output)\n",
    "        \n",
    "    @property\n",
    "    def dtype(self):\n",
    "        if isinstance(self.data, np.ndarray):\n",
    "            return self.data.dtype\n",
    "\n",
    "        else:\n",
    "            return np.array(self.data).dtype\n",
    "\n",
    "    @property\n",
    "    def shape(self):\n",
    "        if isinstance(self.data, np.ndarray):\n",
    "            return self.data.shape\n",
    "        else:\n",
    "            return ()\n",
    "        \n",
    "    \n",
    "    def item(self):\n",
    "        if isinstance(self.data, np.ndarray):\n",
    "            if self.data.size != 1:\n",
    "                raise ValueError(f\"a Tensor with {self.data.size} elements cannnot converted into scalar\")\n",
    "            return self.data.item()\n",
    "        else:\n",
    "            return self.data\n",
    "\n",
    "\n",
    "    def __add__(self, other):\n",
    "        if not isinstance(other, Tensor):\n",
    "            other = Tensor(other)\n",
    "\n",
    "        return Add.apply(self, other)\n"
   ]
  },
  {
   "cell_type": "code",
   "execution_count": 176,
   "id": "2accf33c-6f13-41b0-a732-fddb2c810900",
   "metadata": {},
   "outputs": [],
   "source": [
    "class Function:\n",
    "    @staticmethod\n",
    "    def forward(ctx, *args):\n",
    "        raise NotImplementedError\n",
    "\n",
    "    @staticmethod\n",
    "    def backward(ctx, grad_output):\n",
    "        raise NotImplementedError\n",
    "\n",
    "class Add(Function):\n",
    "    @staticmethod\n",
    "    def apply(a, b):\n",
    "        output = Tensor(a.data + b.data)\n",
    "        output.requires_grad = a.requires_grad or b.requires_grad\n",
    "        output.grad_fn = AddCtx(a, b)\n",
    "        return output\n",
    "\n",
    "class AddCtx:\n",
    "    def __init__(self, a, b):\n",
    "        self.a = a\n",
    "        self.b = b\n",
    "\n",
    "    def backward(self, grad_output):\n",
    "        if self.a.requires_grad:\n",
    "            self.a.backward(grad_output)\n",
    "        if self.b.requires_grad:\n",
    "            self.b.backward(grad_output)"
   ]
  },
  {
   "cell_type": "code",
   "execution_count": 142,
   "id": "838cd9fa-03b4-4307-bb06-6226f6e2046d",
   "metadata": {},
   "outputs": [],
   "source": [
    "a = Tensor(np.array([3]))"
   ]
  },
  {
   "cell_type": "code",
   "execution_count": 101,
   "id": "f89421e7-a513-47d0-b81d-ef19252a1a0e",
   "metadata": {},
   "outputs": [],
   "source": [
    "b = Tensor(np.array([3, 4, 5]))"
   ]
  },
  {
   "cell_type": "code",
   "execution_count": 102,
   "id": "b00db838-bd70-4d75-a1d3-862a3375364d",
   "metadata": {},
   "outputs": [
    {
     "ename": "ValueError",
     "evalue": "a Tensor with 3 elements cannnot converted into scalar",
     "output_type": "error",
     "traceback": [
      "\u001b[1;31m---------------------------------------------------------------------------\u001b[0m",
      "\u001b[1;31mValueError\u001b[0m                                Traceback (most recent call last)",
      "Cell \u001b[1;32mIn[102], line 1\u001b[0m\n\u001b[1;32m----> 1\u001b[0m \u001b[43mb\u001b[49m\u001b[38;5;241;43m.\u001b[39;49m\u001b[43mitem\u001b[49m\u001b[43m(\u001b[49m\u001b[43m)\u001b[49m\n",
      "Cell \u001b[1;32mIn[99], line 22\u001b[0m, in \u001b[0;36mTensor.item\u001b[1;34m(self)\u001b[0m\n\u001b[0;32m     20\u001b[0m \u001b[38;5;28;01mif\u001b[39;00m \u001b[38;5;28misinstance\u001b[39m(\u001b[38;5;28mself\u001b[39m\u001b[38;5;241m.\u001b[39mdata, np\u001b[38;5;241m.\u001b[39mndarray):\n\u001b[0;32m     21\u001b[0m     \u001b[38;5;28;01mif\u001b[39;00m \u001b[38;5;28mself\u001b[39m\u001b[38;5;241m.\u001b[39mdata\u001b[38;5;241m.\u001b[39msize \u001b[38;5;241m!=\u001b[39m \u001b[38;5;241m1\u001b[39m:\n\u001b[1;32m---> 22\u001b[0m         \u001b[38;5;28;01mraise\u001b[39;00m \u001b[38;5;167;01mValueError\u001b[39;00m(\u001b[38;5;124mf\u001b[39m\u001b[38;5;124m\"\u001b[39m\u001b[38;5;124ma Tensor with \u001b[39m\u001b[38;5;132;01m{\u001b[39;00m\u001b[38;5;28mself\u001b[39m\u001b[38;5;241m.\u001b[39mdata\u001b[38;5;241m.\u001b[39msize\u001b[38;5;132;01m}\u001b[39;00m\u001b[38;5;124m elements cannnot converted into scalar\u001b[39m\u001b[38;5;124m\"\u001b[39m)\n\u001b[0;32m     23\u001b[0m     \u001b[38;5;28;01mreturn\u001b[39;00m \u001b[38;5;28mself\u001b[39m\u001b[38;5;241m.\u001b[39mdata\u001b[38;5;241m.\u001b[39mitem()\n\u001b[0;32m     24\u001b[0m \u001b[38;5;28;01melse\u001b[39;00m:\n",
      "\u001b[1;31mValueError\u001b[0m: a Tensor with 3 elements cannnot converted into scalar"
     ]
    }
   ],
   "source": [
    "b.item()"
   ]
  },
  {
   "cell_type": "code",
   "execution_count": 103,
   "id": "d21aa30e-7fee-4b54-bcdb-77ca6a71bb7d",
   "metadata": {},
   "outputs": [
    {
     "data": {
      "text/plain": [
       "Tensor(data=[3], requires_grad=False)"
      ]
     },
     "execution_count": 103,
     "metadata": {},
     "output_type": "execute_result"
    }
   ],
   "source": [
    "a"
   ]
  },
  {
   "cell_type": "code",
   "execution_count": 104,
   "id": "22ad15f3-e789-4056-8d10-a11d2a27e98f",
   "metadata": {},
   "outputs": [],
   "source": [
    "a.requires_grad = True"
   ]
  },
  {
   "cell_type": "code",
   "execution_count": 105,
   "id": "dba09484-bb50-4246-ac1e-bbaf443f2b44",
   "metadata": {},
   "outputs": [
    {
     "data": {
      "text/plain": [
       "Tensor(data=[3], requires_grad=True)"
      ]
     },
     "execution_count": 105,
     "metadata": {},
     "output_type": "execute_result"
    }
   ],
   "source": [
    "a"
   ]
  },
  {
   "cell_type": "code",
   "execution_count": 106,
   "id": "d17a8172-11cb-4c9a-bdaf-6f4c45709bed",
   "metadata": {},
   "outputs": [
    {
     "data": {
      "text/plain": [
       "3"
      ]
     },
     "execution_count": 106,
     "metadata": {},
     "output_type": "execute_result"
    }
   ],
   "source": [
    "a.item()"
   ]
  },
  {
   "cell_type": "code",
   "execution_count": 107,
   "id": "c2749c6d-a33c-40fd-8a47-af7d836e9c95",
   "metadata": {},
   "outputs": [
    {
     "data": {
      "text/plain": [
       "dtype('int64')"
      ]
     },
     "execution_count": 107,
     "metadata": {},
     "output_type": "execute_result"
    }
   ],
   "source": [
    "a.dtype"
   ]
  },
  {
   "cell_type": "code",
   "execution_count": 119,
   "id": "a6d47dec-b68c-4642-89af-30dd80690cb5",
   "metadata": {},
   "outputs": [
    {
     "data": {
      "text/plain": [
       "torch.Size([])"
      ]
     },
     "execution_count": 119,
     "metadata": {},
     "output_type": "execute_result"
    }
   ],
   "source": [
    "import torch \n",
    "t = torch.tensor(5)\n",
    "t.shape"
   ]
  },
  {
   "cell_type": "code",
   "execution_count": 143,
   "id": "87716776-50ce-4162-90e7-7760678b447c",
   "metadata": {},
   "outputs": [],
   "source": [
    "c = Tensor(3)"
   ]
  },
  {
   "cell_type": "code",
   "execution_count": 144,
   "id": "c8f2170a-5bac-4241-b719-4cd94fcd7714",
   "metadata": {},
   "outputs": [
    {
     "data": {
      "text/plain": [
       "()"
      ]
     },
     "execution_count": 144,
     "metadata": {},
     "output_type": "execute_result"
    }
   ],
   "source": [
    "c.shape"
   ]
  },
  {
   "cell_type": "code",
   "execution_count": 145,
   "id": "efc53d03-9d34-47a1-931e-f6a3262dc29b",
   "metadata": {},
   "outputs": [
    {
     "data": {
      "text/plain": [
       "(1,)"
      ]
     },
     "execution_count": 145,
     "metadata": {},
     "output_type": "execute_result"
    }
   ],
   "source": [
    "a.shape"
   ]
  },
  {
   "cell_type": "code",
   "execution_count": 187,
   "id": "bec7c148-e578-480a-bf7d-4a4373f00505",
   "metadata": {},
   "outputs": [],
   "source": [
    "a = Tensor(2)\n",
    "b = Tensor(3)\n",
    "\n",
    "a.requires_grad = True\n",
    "b.requires_grad = True"
   ]
  },
  {
   "cell_type": "code",
   "execution_count": 188,
   "id": "808ca483-220e-4199-9d23-3f85b6377c8d",
   "metadata": {},
   "outputs": [
    {
     "data": {
      "text/plain": [
       "tensor(data=5, requires_grad=True)"
      ]
     },
     "execution_count": 188,
     "metadata": {},
     "output_type": "execute_result"
    }
   ],
   "source": [
    "a+b"
   ]
  },
  {
   "cell_type": "code",
   "execution_count": 189,
   "id": "9af68bae-c94f-41f0-94e2-e6bc6c43328a",
   "metadata": {},
   "outputs": [],
   "source": [
    "z = a + b"
   ]
  },
  {
   "cell_type": "code",
   "execution_count": 190,
   "id": "d02c4610-9d94-40c2-9d7a-313862243441",
   "metadata": {},
   "outputs": [],
   "source": [
    "z.backward()"
   ]
  },
  {
   "cell_type": "code",
   "execution_count": 191,
   "id": "db80567b-973d-4c69-a019-c380796be1c0",
   "metadata": {},
   "outputs": [
    {
     "data": {
      "text/plain": [
       "tensor(data=5, requires_grad=True)"
      ]
     },
     "execution_count": 191,
     "metadata": {},
     "output_type": "execute_result"
    }
   ],
   "source": [
    "z"
   ]
  },
  {
   "cell_type": "code",
   "execution_count": 192,
   "id": "059e0765-66c3-405f-8a2f-2c16d2c6ffcb",
   "metadata": {},
   "outputs": [
    {
     "data": {
      "text/plain": [
       "1.0"
      ]
     },
     "execution_count": 192,
     "metadata": {},
     "output_type": "execute_result"
    }
   ],
   "source": [
    "a.grad"
   ]
  },
  {
   "cell_type": "code",
   "execution_count": 193,
   "id": "ea0b38b4-35da-43c7-957c-e40815187411",
   "metadata": {},
   "outputs": [
    {
     "data": {
      "text/plain": [
       "1.0"
      ]
     },
     "execution_count": 193,
     "metadata": {},
     "output_type": "execute_result"
    }
   ],
   "source": [
    "b.grad"
   ]
  },
  {
   "cell_type": "code",
   "execution_count": null,
   "id": "1a98be74-46c0-4e4b-98f3-9dc9d07a1b4c",
   "metadata": {},
   "outputs": [],
   "source": []
  }
 ],
 "metadata": {
  "kernelspec": {
   "display_name": "Python 3 (ipykernel)",
   "language": "python",
   "name": "python3"
  },
  "language_info": {
   "codemirror_mode": {
    "name": "ipython",
    "version": 3
   },
   "file_extension": ".py",
   "mimetype": "text/x-python",
   "name": "python",
   "nbconvert_exporter": "python",
   "pygments_lexer": "ipython3",
   "version": "3.11.3"
  }
 },
 "nbformat": 4,
 "nbformat_minor": 5
}
